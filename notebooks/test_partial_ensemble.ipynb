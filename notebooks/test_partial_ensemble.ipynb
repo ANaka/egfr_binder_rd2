{
 "cells": [
  {
   "cell_type": "code",
   "execution_count": 1,
   "metadata": {},
   "outputs": [
    {
     "name": "stderr",
     "output_type": "stream",
     "text": [
      "/home/naka/code/egfr_binder_rd2/.venv/lib/python3.11/site-packages/tqdm/auto.py:21: TqdmWarning: IProgress not found. Please update jupyter and ipywidgets. See https://ipywidgets.readthedocs.io/en/stable/user_install.html\n",
      "  from .autonotebook import tqdm as notebook_tqdm\n"
     ]
    }
   ],
   "source": [
    "from datetime import datetime\n",
    "from pathlib import Path\n",
    "import os\n",
    "\n",
    "import click\n",
    "import torch\n",
    "import wandb\n",
    "from lightning import Trainer\n",
    "from lightning.pytorch.callbacks import EarlyStopping\n",
    "from lightning.pytorch.loggers import WandbLogger\n",
    "import logging\n",
    "import lightning as L\n",
    "import numpy as np\n",
    "import pandas as pd\n",
    "import seaborn as sns\n",
    "import matplotlib.pyplot as plt\n",
    "from scipy.stats import spearmanr\n",
    "from transformers import EsmForMaskedLM, AutoTokenizer, EsmModel\n",
    "from peft import get_peft_model, LoraConfig, TaskType, set_peft_model_state_dict, get_peft_model_state_dict\n",
    "\n",
    "\n",
    "from egfr_binder_rd2.datamodule import SequenceDataModule\n",
    "from egfr_binder_rd2.bt import BTRegressionModule, PartialEnsembleModule\n",
    "from egfr_binder_rd2.binding_dataset import get_dataset\n",
    "\n",
    "\n",
    "%load_ext autoreload\n",
    "%autoreload 2\n",
    "\n",
    "torch.set_float32_matmul_precision('medium')\n",
    "\n",
    "seed = 42\n",
    "debug = True\n"
   ]
  },
  {
   "cell_type": "code",
   "execution_count": 2,
   "metadata": {},
   "outputs": [],
   "source": [
    "def setup_logging(debug: bool):\n",
    "    level = logging.DEBUG if debug else logging.INFO\n",
    "    logging.basicConfig(\n",
    "        level=level,\n",
    "        format='%(asctime)s - %(name)s - %(levelname)s - %(message)s',\n",
    "        datefmt='%Y-%m-%d %H:%M:%S'\n",
    "    )\n",
    "    logger = logging.getLogger(__name__)\n",
    "    logger.info(\"Logging setup complete.\")\n",
    "    return logger"
   ]
  },
  {
   "cell_type": "code",
   "execution_count": 10,
   "metadata": {},
   "outputs": [],
   "source": [
    "df = get_dataset()\n",
    "yvar = 'i_ptm'\n",
    "xvar = 'binder_sequence'"
   ]
  },
  {
   "cell_type": "code",
   "execution_count": 11,
   "metadata": {},
   "outputs": [],
   "source": [
    "label: str\n",
    "# model_name: str = \"facebook/esm2_t33_650M_UR50D\"\n",
    "model_name: str = \"facebook/esm2_t6_8M_UR50D\"\n",
    "lr: float = 5e-4\n",
    "peft_r: int = 8\n",
    "peft_alpha: int = 16\n",
    "max_length: int = 512"
   ]
  },
  {
   "cell_type": "code",
   "execution_count": 12,
   "metadata": {},
   "outputs": [
    {
     "name": "stderr",
     "output_type": "stream",
     "text": [
      "/home/naka/code/egfr_binder_rd2/.venv/lib/python3.11/site-packages/huggingface_hub/file_download.py:797: FutureWarning: `resume_download` is deprecated and will be removed in version 1.0.0. Downloads always resume when possible. If you want to force a new download, use `force_download=True`.\n",
      "  warnings.warn(\n",
      "Map: 100%|██████████| 729/729 [00:00<00:00, 10253.41 examples/s]\n",
      "Map: 100%|██████████| 91/91 [00:00<00:00, 8031.35 examples/s]\n",
      "Map: 100%|██████████| 92/92 [00:00<00:00, 7384.20 examples/s]\n"
     ]
    }
   ],
   "source": [
    "\n",
    "# Create and setup the DataModule\n",
    "data_module = SequenceDataModule(\n",
    "    df, \n",
    "    tokenizer_name=\"facebook/esm2_t33_650M_UR50D\",\n",
    "    xvar=xvar,\n",
    "    yvar=yvar,  # You can change this to any other column name in your DataFrame\n",
    "    batch_size=32,\n",
    "    max_length=512,\n",
    "    transform_type='standardize',\n",
    "    make_negative=True,\n",
    ")\n",
    "data_module.setup()\n",
    "\n"
   ]
  },
  {
   "cell_type": "code",
   "execution_count": 13,
   "metadata": {},
   "outputs": [
    {
     "name": "stderr",
     "output_type": "stream",
     "text": [
      "Some weights of EsmModel were not initialized from the model checkpoint at facebook/esm2_t6_8M_UR50D and are newly initialized: ['esm.pooler.dense.bias', 'esm.pooler.dense.weight']\n",
      "You should probably TRAIN this model on a down-stream task to be able to use it for predictions and inference.\n",
      "/home/naka/code/egfr_binder_rd2/.venv/lib/python3.11/site-packages/torchmetrics/utilities/prints.py:43: UserWarning: Metric `SpearmanCorrcoef` will save all targets and predictions in the buffer. For large datasets, this may lead to large memory footprint.\n",
      "  warnings.warn(*args, **kwargs)  # noqa: B028\n",
      "/home/naka/code/egfr_binder_rd2/.venv/lib/python3.11/site-packages/lightning/fabric/plugins/environments/slurm.py:204: The `srun` command is available on your system but is not used. HINT: If your intention is to run Lightning on SLURM, prepend your python command with `srun` like so: srun python /home/naka/code/egfr_binder_rd2/.venv/lib/python3.11 ...\n",
      "GPU available: True (cuda), used: True\n",
      "TPU available: False, using: 0 TPU cores\n",
      "HPU available: False, using: 0 HPUs\n",
      "/home/naka/code/egfr_binder_rd2/.venv/lib/python3.11/site-packages/lightning/pytorch/loggers/wandb.py:396: There is a wandb run already in progress and newly created instances of `WandbLogger` will reuse this run. If this is not desired, call `wandb.finish()` before instantiating `WandbLogger`.\n",
      "Map: 100%|██████████| 729/729 [00:00<00:00, 9917.38 examples/s]\n",
      "Map: 100%|██████████| 91/91 [00:00<00:00, 7875.90 examples/s]\n",
      "Map: 100%|██████████| 92/92 [00:00<00:00, 8154.26 examples/s]\n",
      "LOCAL_RANK: 0 - CUDA_VISIBLE_DEVICES: [0]\n",
      "\n",
      "  | Name           | Type                          | Params | Mode \n",
      "-------------------------------------------------------------------------\n",
      "0 | esm_model      | PeftModelForFeatureExtraction | 7.9 M  | train\n",
      "1 | ensemble_heads | ModuleList                    | 1.6 M  | train\n",
      "2 | train_metrics  | MetricCollection              | 0      | train\n",
      "3 | val_mae        | MeanAbsoluteError             | 0      | train\n",
      "4 | val_spearman   | SpearmanCorrCoef              | 0      | train\n",
      "5 | bt_loss        | BradleyTerryLoss              | 0      | train\n",
      "-------------------------------------------------------------------------\n",
      "1.6 M     Trainable params\n",
      "7.8 M     Non-trainable params\n",
      "9.5 M     Total params\n",
      "37.937    Total estimated model params size (MB)\n",
      "299       Modules in train mode\n",
      "122       Modules in eval mode\n"
     ]
    },
    {
     "name": "stdout",
     "output_type": "stream",
     "text": [
      "Epoch 9: 100%|██████████| 23/23 [00:03<00:00,  5.78it/s, v_num=9653]       "
     ]
    },
    {
     "name": "stderr",
     "output_type": "stream",
     "text": [
      "`Trainer.fit` stopped: `max_epochs=10` reached.\n"
     ]
    },
    {
     "name": "stdout",
     "output_type": "stream",
     "text": [
      "Epoch 9: 100%|██████████| 23/23 [00:03<00:00,  5.77it/s, v_num=9653]\n"
     ]
    }
   ],
   "source": [
    "# Initialize model\n",
    "model = PartialEnsembleModule(\n",
    "    label=yvar,\n",
    "    num_heads=10,  # Number of ensemble heads\n",
    "    model_name=model_name,\n",
    "    lr=lr,\n",
    "    peft_r=peft_r,\n",
    "    peft_alpha=peft_alpha,\n",
    "    max_length=max_length,\n",
    "    dropout=0.15\n",
    ")\n",
    "\n",
    "# Initialize trainer\n",
    "trainer = Trainer(\n",
    "    max_epochs=10,\n",
    "    accelerator='auto',\n",
    "    devices=1,\n",
    "    callbacks=[\n",
    "        EarlyStopping(\n",
    "            monitor='val_spearman',\n",
    "            mode='max',\n",
    "            patience=10,\n",
    "            min_delta=0.001\n",
    "        )\n",
    "    ],\n",
    "    logger=WandbLogger(project='egfr_binder_rd2_pe_scratch'),\n",
    "    precision='32-true',\n",
    "    log_every_n_steps=10,\n",
    "    enable_checkpointing=False,\n",
    "    val_check_interval=0.25,\n",
    ")\n",
    "\n",
    "# Train\n",
    "trainer.fit(\n",
    "    model=model,\n",
    "    datamodule=data_module\n",
    ")"
   ]
  },
  {
   "cell_type": "code",
   "execution_count": 14,
   "metadata": {},
   "outputs": [],
   "source": [
    "model = model.eval()"
   ]
  },
  {
   "cell_type": "code",
   "execution_count": 15,
   "metadata": {},
   "outputs": [
    {
     "name": "stderr",
     "output_type": "stream",
     "text": [
      "Map: 100%|██████████| 729/729 [00:00<00:00, 9923.43 examples/s]\n",
      "Map: 100%|██████████| 91/91 [00:00<00:00, 7609.89 examples/s]\n",
      "Map: 100%|██████████| 92/92 [00:00<00:00, 7873.25 examples/s]\n",
      "LOCAL_RANK: 0 - CUDA_VISIBLE_DEVICES: [0]\n"
     ]
    },
    {
     "name": "stdout",
     "output_type": "stream",
     "text": [
      "Predicting DataLoader 0: 100%|██████████| 23/23 [00:01<00:00, 21.07it/s]\n"
     ]
    },
    {
     "name": "stderr",
     "output_type": "stream",
     "text": [
      "Map: 100%|██████████| 729/729 [00:00<00:00, 10052.26 examples/s]\n",
      "Map: 100%|██████████| 91/91 [00:00<00:00, 8149.15 examples/s]\n",
      "Map: 100%|██████████| 92/92 [00:00<00:00, 7926.30 examples/s]\n",
      "LOCAL_RANK: 0 - CUDA_VISIBLE_DEVICES: [0]\n"
     ]
    },
    {
     "name": "stdout",
     "output_type": "stream",
     "text": [
      "Predicting DataLoader 0: 100%|██████████| 3/3 [00:00<00:00, 21.41it/s] \n"
     ]
    },
    {
     "name": "stderr",
     "output_type": "stream",
     "text": [
      "Map: 100%|██████████| 729/729 [00:00<00:00, 9925.07 examples/s]\n",
      "Map: 100%|██████████| 91/91 [00:00<00:00, 7725.41 examples/s]\n",
      "Map: 100%|██████████| 92/92 [00:00<00:00, 8230.44 examples/s]\n",
      "LOCAL_RANK: 0 - CUDA_VISIBLE_DEVICES: [0]\n"
     ]
    },
    {
     "name": "stdout",
     "output_type": "stream",
     "text": [
      "Predicting DataLoader 0: 100%|██████████| 3/3 [00:00<00:00, 20.97it/s] \n",
      "\n",
      "Results by split:\n",
      "train split correlation: 0.955\n",
      "val split correlation: 0.910\n",
      "test split correlation: 0.859\n"
     ]
    }
   ],
   "source": [
    "# Get predictions for all splits\n",
    "predictions = {\n",
    "    'train': trainer.predict(model, dataloaders=data_module.train_dataloader(shuffle=False)),\n",
    "    'val': trainer.predict(model, dataloaders=data_module.val_dataloader()),\n",
    "    'test': trainer.predict(model, dataloaders=data_module.test_dataloader())\n",
    "}\n",
    "\n",
    "# Combine predictions\n",
    "results = {\n",
    "    'sequence': [],\n",
    "    'prediction': [],  # ensemble mean\n",
    "    'uncertainty': [], # ensemble std\n",
    "    'target': [],\n",
    "    'split': [],  # Track which split each prediction came from\n",
    "}\n",
    "\n",
    "# Add columns for each head\n",
    "num_heads = model.hparams.num_heads\n",
    "for i in range(num_heads):\n",
    "    results[f'head_{i}'] = []\n",
    "\n",
    "# Process predictions from each split\n",
    "for split_name, split_predictions in predictions.items():\n",
    "    for batch in split_predictions:\n",
    "        sequences = batch['sequence']\n",
    "        results['sequence'].extend(sequences)\n",
    "        results['split'].extend([split_name] * len(sequences))\n",
    "        \n",
    "        # Handle ensemble predictions and uncertainties\n",
    "        pred = batch['predictions'].cpu().numpy()\n",
    "        unc = batch['uncertainties'].cpu().numpy()\n",
    "        target = batch['target'].cpu().numpy()\n",
    "        if pred.ndim > 1:\n",
    "            pred = pred.squeeze()\n",
    "        if unc.ndim > 1:\n",
    "            unc = unc.squeeze()\n",
    "        if target.ndim > 1:\n",
    "            target = target.squeeze()\n",
    "        results['prediction'].extend(pred.reshape(-1))\n",
    "        results['uncertainty'].extend(unc.reshape(-1))\n",
    "        results['target'].extend(target.reshape(-1))\n",
    "\n",
    "        # Handle individual head predictions\n",
    "        head_preds = batch['head_predictions'].cpu().numpy()\n",
    "        if head_preds.ndim > 1:\n",
    "            head_preds = head_preds.squeeze()\n",
    "        if head_preds.ndim == 1:  # Single sample\n",
    "            head_preds = head_preds.reshape(1, -1)\n",
    "        \n",
    "        # Add each head's predictions\n",
    "        for i in range(num_heads):\n",
    "            results[f'head_{i}'].extend(head_preds[:, i])\n",
    "\n",
    "# Convert to DataFrame\n",
    "results_df = pd.DataFrame(results)\n",
    "\n",
    "# Now you can analyze results by split\n",
    "print(\"\\nResults by split:\")\n",
    "for split in ['train', 'val', 'test']:\n",
    "    split_df = results_df[results_df['split'] == split]\n",
    "    correlation = spearmanr(split_df['prediction'], split_df['target']).correlation\n",
    "    print(f\"{split} split correlation: {correlation:.3f}\")"
   ]
  },
  {
   "cell_type": "code",
   "execution_count": 16,
   "metadata": {},
   "outputs": [
    {
     "data": {
      "text/plain": [
       "<Axes: xlabel='target', ylabel='value'>"
      ]
     },
     "execution_count": 16,
     "metadata": {},
     "output_type": "execute_result"
    },
    {
     "data": {
      "image/png": "[encoded data removed]",
      "text/plain": [
       "<Figure size 640x480 with 1 Axes>"
      ]
     },
     "metadata": {},
     "output_type": "display_data"
    }
   ],
   "source": [
    "melted = results_df.melt(id_vars=['sequence', 'prediction', 'target', 'uncertainty', 'split'])\n",
    "sns.scatterplot(melted.query('split == \"test\"'), x='target', y='value')"
   ]
  },
  {
   "cell_type": "code",
   "execution_count": 17,
   "metadata": {},
   "outputs": [
    {
     "name": "stdout",
     "output_type": "stream",
     "text": [
      "Model saved to: test.pt\n",
      "Adapter state dict keys: ['base_model.model.encoder.layer.0.attention.self.query.lora_A.weight', 'base_model.model.encoder.layer.0.attention.self.query.lora_B.weight', 'base_model.model.encoder.layer.0.attention.self.key.lora_A.weight', 'base_model.model.encoder.layer.0.attention.self.key.lora_B.weight', 'base_model.model.encoder.layer.0.attention.self.value.lora_A.weight', 'base_model.model.encoder.layer.0.attention.self.value.lora_B.weight', 'base_model.model.encoder.layer.1.attention.self.query.lora_A.weight', 'base_model.model.encoder.layer.1.attention.self.query.lora_B.weight', 'base_model.model.encoder.layer.1.attention.self.key.lora_A.weight', 'base_model.model.encoder.layer.1.attention.self.key.lora_B.weight', 'base_model.model.encoder.layer.1.attention.self.value.lora_A.weight', 'base_model.model.encoder.layer.1.attention.self.value.lora_B.weight', 'base_model.model.encoder.layer.2.attention.self.query.lora_A.weight', 'base_model.model.encoder.layer.2.attention.self.query.lora_B.weight', 'base_model.model.encoder.layer.2.attention.self.key.lora_A.weight', 'base_model.model.encoder.layer.2.attention.self.key.lora_B.weight', 'base_model.model.encoder.layer.2.attention.self.value.lora_A.weight', 'base_model.model.encoder.layer.2.attention.self.value.lora_B.weight', 'base_model.model.encoder.layer.3.attention.self.query.lora_A.weight', 'base_model.model.encoder.layer.3.attention.self.query.lora_B.weight', 'base_model.model.encoder.layer.3.attention.self.key.lora_A.weight', 'base_model.model.encoder.layer.3.attention.self.key.lora_B.weight', 'base_model.model.encoder.layer.3.attention.self.value.lora_A.weight', 'base_model.model.encoder.layer.3.attention.self.value.lora_B.weight', 'base_model.model.encoder.layer.4.attention.self.query.lora_A.weight', 'base_model.model.encoder.layer.4.attention.self.query.lora_B.weight', 'base_model.model.encoder.layer.4.attention.self.key.lora_A.weight', 'base_model.model.encoder.layer.4.attention.self.key.lora_B.weight', 'base_model.model.encoder.layer.4.attention.self.value.lora_A.weight', 'base_model.model.encoder.layer.4.attention.self.value.lora_B.weight', 'base_model.model.encoder.layer.5.attention.self.query.lora_A.weight', 'base_model.model.encoder.layer.5.attention.self.query.lora_B.weight', 'base_model.model.encoder.layer.5.attention.self.key.lora_A.weight', 'base_model.model.encoder.layer.5.attention.self.key.lora_B.weight', 'base_model.model.encoder.layer.5.attention.self.value.lora_A.weight', 'base_model.model.encoder.layer.5.attention.self.value.lora_B.weight']\n",
      "Ensemble state dict keys: ['0.regression_head.0.weight', '0.regression_head.0.bias', '0.regression_head.3.weight', '0.regression_head.3.bias', '0.regression_head.4.weight', '0.regression_head.4.bias', '0.regression_head.7.weight', '0.regression_head.7.bias', '0.regression_head.8.weight', '0.regression_head.8.bias', '1.regression_head.0.weight', '1.regression_head.0.bias', '1.regression_head.3.weight', '1.regression_head.3.bias', '1.regression_head.4.weight', '1.regression_head.4.bias', '1.regression_head.7.weight', '1.regression_head.7.bias', '1.regression_head.8.weight', '1.regression_head.8.bias', '2.regression_head.0.weight', '2.regression_head.0.bias', '2.regression_head.3.weight', '2.regression_head.3.bias', '2.regression_head.4.weight', '2.regression_head.4.bias', '2.regression_head.7.weight', '2.regression_head.7.bias', '2.regression_head.8.weight', '2.regression_head.8.bias', '3.regression_head.0.weight', '3.regression_head.0.bias', '3.regression_head.3.weight', '3.regression_head.3.bias', '3.regression_head.4.weight', '3.regression_head.4.bias', '3.regression_head.7.weight', '3.regression_head.7.bias', '3.regression_head.8.weight', '3.regression_head.8.bias', '4.regression_head.0.weight', '4.regression_head.0.bias', '4.regression_head.3.weight', '4.regression_head.3.bias', '4.regression_head.4.weight', '4.regression_head.4.bias', '4.regression_head.7.weight', '4.regression_head.7.bias', '4.regression_head.8.weight', '4.regression_head.8.bias', '5.regression_head.0.weight', '5.regression_head.0.bias', '5.regression_head.3.weight', '5.regression_head.3.bias', '5.regression_head.4.weight', '5.regression_head.4.bias', '5.regression_head.7.weight', '5.regression_head.7.bias', '5.regression_head.8.weight', '5.regression_head.8.bias', '6.regression_head.0.weight', '6.regression_head.0.bias', '6.regression_head.3.weight', '6.regression_head.3.bias', '6.regression_head.4.weight', '6.regression_head.4.bias', '6.regression_head.7.weight', '6.regression_head.7.bias', '6.regression_head.8.weight', '6.regression_head.8.bias', '7.regression_head.0.weight', '7.regression_head.0.bias', '7.regression_head.3.weight', '7.regression_head.3.bias', '7.regression_head.4.weight', '7.regression_head.4.bias', '7.regression_head.7.weight', '7.regression_head.7.bias', '7.regression_head.8.weight', '7.regression_head.8.bias', '8.regression_head.0.weight', '8.regression_head.0.bias', '8.regression_head.3.weight', '8.regression_head.3.bias', '8.regression_head.4.weight', '8.regression_head.4.bias', '8.regression_head.7.weight', '8.regression_head.7.bias', '8.regression_head.8.weight', '8.regression_head.8.bias', '9.regression_head.0.weight', '9.regression_head.0.bias', '9.regression_head.3.weight', '9.regression_head.3.bias', '9.regression_head.4.weight', '9.regression_head.4.bias', '9.regression_head.7.weight', '9.regression_head.7.bias', '9.regression_head.8.weight', '9.regression_head.8.bias']\n",
      "Pooler state dict keys: ['dense.weight', 'dense.bias']\n"
     ]
    },
    {
     "name": "stderr",
     "output_type": "stream",
     "text": [
      "/home/naka/code/egfr_binder_rd2/.venv/lib/python3.11/site-packages/huggingface_hub/file_download.py:797: FutureWarning: `resume_download` is deprecated and will be removed in version 1.0.0. Downloads always resume when possible. If you want to force a new download, use `force_download=True`.\n",
      "  warnings.warn(\n"
     ]
    }
   ],
   "source": [
    "model.save_model(\"test.pt\")"
   ]
  },
  {
   "cell_type": "code",
   "execution_count": 46,
   "metadata": {},
   "outputs": [
    {
     "data": {
      "text/plain": [
       "seq_hash\n",
       "5b353a    0.92\n",
       "5b353a    0.91\n",
       "5b353a    0.91\n",
       "5b353a    0.90\n",
       "5b353a    0.90\n",
       "          ... \n",
       "01e6f1    0.88\n",
       "eb14f3    0.89\n",
       "bf226b    0.90\n",
       "6b9521    0.90\n",
       "229872    0.92\n",
       "Name: i_ptm, Length: 912, dtype: float64"
      ]
     },
     "execution_count": 46,
     "metadata": {},
     "output_type": "execute_result"
    }
   ],
   "source": [
    "df['i_ptm']"
   ]
  },
  {
   "cell_type": "code",
   "execution_count": 18,
   "metadata": {},
   "outputs": [
    {
     "name": "stderr",
     "output_type": "stream",
     "text": [
      "/home/naka/code/egfr_binder_rd2/src/egfr_binder_rd2/bt.py:527: FutureWarning: You are using `torch.load` with `weights_only=False` (the current default value), which uses the default pickle module implicitly. It is possible to construct malicious pickle data which will execute arbitrary code during unpickling (See https://github.com/pytorch/pytorch/blob/main/SECURITY.md#untrusted-models for more details). In a future release, the default value for `weights_only` will be flipped to `True`. This limits the functions that could be executed during unpickling. Arbitrary objects will no longer be allowed to be loaded via this mode unless they are explicitly allowlisted by the user via `torch.serialization.add_safe_globals`. We recommend you start setting `weights_only=True` for any use case where you don't have full control of the loaded file. Please open an issue on GitHub for any issues related to this experimental feature.\n",
      "  saved_dict = torch.load(load_path)\n",
      "Some weights of EsmModel were not initialized from the model checkpoint at facebook/esm2_t6_8M_UR50D and are newly initialized: ['esm.pooler.dense.bias', 'esm.pooler.dense.weight']\n",
      "You should probably TRAIN this model on a down-stream task to be able to use it for predictions and inference.\n"
     ]
    },
    {
     "name": "stdout",
     "output_type": "stream",
     "text": [
      "Model loaded from: test.pt\n",
      "Loaded adapter state dict keys: ['base_model.model.encoder.layer.0.attention.self.query.lora_A.weight', 'base_model.model.encoder.layer.0.attention.self.query.lora_B.weight', 'base_model.model.encoder.layer.0.attention.self.key.lora_A.weight', 'base_model.model.encoder.layer.0.attention.self.key.lora_B.weight', 'base_model.model.encoder.layer.0.attention.self.value.lora_A.weight', 'base_model.model.encoder.layer.0.attention.self.value.lora_B.weight', 'base_model.model.encoder.layer.1.attention.self.query.lora_A.weight', 'base_model.model.encoder.layer.1.attention.self.query.lora_B.weight', 'base_model.model.encoder.layer.1.attention.self.key.lora_A.weight', 'base_model.model.encoder.layer.1.attention.self.key.lora_B.weight', 'base_model.model.encoder.layer.1.attention.self.value.lora_A.weight', 'base_model.model.encoder.layer.1.attention.self.value.lora_B.weight', 'base_model.model.encoder.layer.2.attention.self.query.lora_A.weight', 'base_model.model.encoder.layer.2.attention.self.query.lora_B.weight', 'base_model.model.encoder.layer.2.attention.self.key.lora_A.weight', 'base_model.model.encoder.layer.2.attention.self.key.lora_B.weight', 'base_model.model.encoder.layer.2.attention.self.value.lora_A.weight', 'base_model.model.encoder.layer.2.attention.self.value.lora_B.weight', 'base_model.model.encoder.layer.3.attention.self.query.lora_A.weight', 'base_model.model.encoder.layer.3.attention.self.query.lora_B.weight', 'base_model.model.encoder.layer.3.attention.self.key.lora_A.weight', 'base_model.model.encoder.layer.3.attention.self.key.lora_B.weight', 'base_model.model.encoder.layer.3.attention.self.value.lora_A.weight', 'base_model.model.encoder.layer.3.attention.self.value.lora_B.weight', 'base_model.model.encoder.layer.4.attention.self.query.lora_A.weight', 'base_model.model.encoder.layer.4.attention.self.query.lora_B.weight', 'base_model.model.encoder.layer.4.attention.self.key.lora_A.weight', 'base_model.model.encoder.layer.4.attention.self.key.lora_B.weight', 'base_model.model.encoder.layer.4.attention.self.value.lora_A.weight', 'base_model.model.encoder.layer.4.attention.self.value.lora_B.weight', 'base_model.model.encoder.layer.5.attention.self.query.lora_A.weight', 'base_model.model.encoder.layer.5.attention.self.query.lora_B.weight', 'base_model.model.encoder.layer.5.attention.self.key.lora_A.weight', 'base_model.model.encoder.layer.5.attention.self.key.lora_B.weight', 'base_model.model.encoder.layer.5.attention.self.value.lora_A.weight', 'base_model.model.encoder.layer.5.attention.self.value.lora_B.weight']\n",
      "Loaded ensemble state dict keys: ['0.regression_head.0.weight', '0.regression_head.0.bias', '0.regression_head.3.weight', '0.regression_head.3.bias', '0.regression_head.4.weight', '0.regression_head.4.bias', '0.regression_head.7.weight', '0.regression_head.7.bias', '0.regression_head.8.weight', '0.regression_head.8.bias', '1.regression_head.0.weight', '1.regression_head.0.bias', '1.regression_head.3.weight', '1.regression_head.3.bias', '1.regression_head.4.weight', '1.regression_head.4.bias', '1.regression_head.7.weight', '1.regression_head.7.bias', '1.regression_head.8.weight', '1.regression_head.8.bias', '2.regression_head.0.weight', '2.regression_head.0.bias', '2.regression_head.3.weight', '2.regression_head.3.bias', '2.regression_head.4.weight', '2.regression_head.4.bias', '2.regression_head.7.weight', '2.regression_head.7.bias', '2.regression_head.8.weight', '2.regression_head.8.bias', '3.regression_head.0.weight', '3.regression_head.0.bias', '3.regression_head.3.weight', '3.regression_head.3.bias', '3.regression_head.4.weight', '3.regression_head.4.bias', '3.regression_head.7.weight', '3.regression_head.7.bias', '3.regression_head.8.weight', '3.regression_head.8.bias', '4.regression_head.0.weight', '4.regression_head.0.bias', '4.regression_head.3.weight', '4.regression_head.3.bias', '4.regression_head.4.weight', '4.regression_head.4.bias', '4.regression_head.7.weight', '4.regression_head.7.bias', '4.regression_head.8.weight', '4.regression_head.8.bias', '5.regression_head.0.weight', '5.regression_head.0.bias', '5.regression_head.3.weight', '5.regression_head.3.bias', '5.regression_head.4.weight', '5.regression_head.4.bias', '5.regression_head.7.weight', '5.regression_head.7.bias', '5.regression_head.8.weight', '5.regression_head.8.bias', '6.regression_head.0.weight', '6.regression_head.0.bias', '6.regression_head.3.weight', '6.regression_head.3.bias', '6.regression_head.4.weight', '6.regression_head.4.bias', '6.regression_head.7.weight', '6.regression_head.7.bias', '6.regression_head.8.weight', '6.regression_head.8.bias', '7.regression_head.0.weight', '7.regression_head.0.bias', '7.regression_head.3.weight', '7.regression_head.3.bias', '7.regression_head.4.weight', '7.regression_head.4.bias', '7.regression_head.7.weight', '7.regression_head.7.bias', '7.regression_head.8.weight', '7.regression_head.8.bias', '8.regression_head.0.weight', '8.regression_head.0.bias', '8.regression_head.3.weight', '8.regression_head.3.bias', '8.regression_head.4.weight', '8.regression_head.4.bias', '8.regression_head.7.weight', '8.regression_head.7.bias', '8.regression_head.8.weight', '8.regression_head.8.bias', '9.regression_head.0.weight', '9.regression_head.0.bias', '9.regression_head.3.weight', '9.regression_head.3.bias', '9.regression_head.4.weight', '9.regression_head.4.bias', '9.regression_head.7.weight', '9.regression_head.7.bias', '9.regression_head.8.weight', '9.regression_head.8.bias']\n",
      "Loaded pooler state dict keys: ['dense.weight', 'dense.bias']\n"
     ]
    },
    {
     "name": "stderr",
     "output_type": "stream",
     "text": [
      "/home/naka/code/egfr_binder_rd2/.venv/lib/python3.11/site-packages/torchmetrics/utilities/prints.py:43: UserWarning: Metric `SpearmanCorrcoef` will save all targets and predictions in the buffer. For large datasets, this may lead to large memory footprint.\n",
      "  warnings.warn(*args, **kwargs)  # noqa: B028\n"
     ]
    }
   ],
   "source": [
    "loaded_model = PartialEnsembleModule.load_model(\"test.pt\")\n",
    "loaded_model = loaded_model.eval()"
   ]
  },
  {
   "cell_type": "code",
   "execution_count": 42,
   "metadata": {},
   "outputs": [
    {
     "data": {
      "text/plain": [
       "EsmEmbeddings(\n",
       "  (word_embeddings): Embedding(33, 320, padding_idx=1)\n",
       "  (dropout): Dropout(p=0.0, inplace=False)\n",
       "  (position_embeddings): Embedding(1026, 320, padding_idx=1)\n",
       ")"
      ]
     },
     "execution_count": 42,
     "metadata": {},
     "output_type": "execute_result"
    }
   ],
   "source": [
    "loaded_model.esm_model.base_model.model.embeddings"
   ]
  },
  {
   "cell_type": "code",
   "execution_count": 43,
   "metadata": {},
   "outputs": [],
   "source": [
    "from egfr_binder_rd2.esm_regression_expert import EsmRegressionExpert\n",
    "\n",
    "expert = EsmRegressionExpert(\n",
    "    temperature=1.0,\n",
    "    model=loaded_model,\n",
    "    tokenizer=loaded_model.tokenizer,\n",
    ")"
   ]
  },
  {
   "cell_type": "code",
   "execution_count": 19,
   "metadata": {},
   "outputs": [],
   "source": [
    "batch = next(iter(data_module.test_dataloader()))"
   ]
  },
  {
   "cell_type": "code",
   "execution_count": 20,
   "metadata": {},
   "outputs": [],
   "source": [
    "model = model.eval()"
   ]
  },
  {
   "cell_type": "code",
   "execution_count": 21,
   "metadata": {},
   "outputs": [
    {
     "data": {
      "text/plain": [
       "tensor([[ 1.7851e-02, -1.4054e-01, -8.2440e-02,  ..., -1.7021e-01,\n",
       "          1.3623e-01, -1.0688e-01],\n",
       "        [ 1.1235e-02, -1.8316e-01, -6.7521e-02,  ..., -1.8192e-01,\n",
       "          1.7823e-01, -1.3302e-01],\n",
       "        [ 6.9933e-02, -5.9463e-02, -1.6813e-01,  ..., -2.4519e-01,\n",
       "          1.3590e-01, -1.5412e-01],\n",
       "        ...,\n",
       "        [ 3.3352e-05, -1.6596e-01, -2.1874e-01,  ..., -1.2343e-02,\n",
       "          2.3549e-01, -5.2100e-02],\n",
       "        [ 5.4139e-02, -2.2205e-01, -1.0511e-01,  ..., -2.1645e-01,\n",
       "          1.7424e-01, -1.9035e-01],\n",
       "        [ 9.5082e-02, -1.4146e-01, -1.4028e-01,  ..., -7.0901e-02,\n",
       "          1.8936e-01, -4.5907e-02]], grad_fn=<TanhBackward0>)"
      ]
     },
     "execution_count": 21,
     "metadata": {},
     "output_type": "execute_result"
    }
   ],
   "source": [
    "out = model.esm_model(batch['input_ids'], batch['attention_mask'])\n",
    "out.pooler_output"
   ]
  },
  {
   "cell_type": "code",
   "execution_count": 22,
   "metadata": {},
   "outputs": [
    {
     "data": {
      "text/plain": [
       "tensor([[ 1.7851e-02, -1.4054e-01, -8.2440e-02,  ..., -1.7021e-01,\n",
       "          1.3623e-01, -1.0688e-01],\n",
       "        [ 1.1235e-02, -1.8316e-01, -6.7521e-02,  ..., -1.8192e-01,\n",
       "          1.7823e-01, -1.3302e-01],\n",
       "        [ 6.9933e-02, -5.9463e-02, -1.6813e-01,  ..., -2.4519e-01,\n",
       "          1.3590e-01, -1.5412e-01],\n",
       "        ...,\n",
       "        [ 3.3352e-05, -1.6596e-01, -2.1874e-01,  ..., -1.2343e-02,\n",
       "          2.3549e-01, -5.2100e-02],\n",
       "        [ 5.4139e-02, -2.2205e-01, -1.0511e-01,  ..., -2.1645e-01,\n",
       "          1.7424e-01, -1.9035e-01],\n",
       "        [ 9.5082e-02, -1.4146e-01, -1.4028e-01,  ..., -7.0901e-02,\n",
       "          1.8936e-01, -4.5907e-02]], grad_fn=<TanhBackward0>)"
      ]
     },
     "execution_count": 22,
     "metadata": {},
     "output_type": "execute_result"
    }
   ],
   "source": [
    "out = loaded_model.esm_model(batch['input_ids'], batch['attention_mask'])\n",
    "out.pooler_output"
   ]
  },
  {
   "cell_type": "code",
   "execution_count": 29,
   "metadata": {},
   "outputs": [
    {
     "data": {
      "text/plain": [
       "LoraModel(\n",
       "  (model): EsmModel(\n",
       "    (embeddings): EsmEmbeddings(\n",
       "      (word_embeddings): Embedding(33, 320, padding_idx=1)\n",
       "      (dropout): Dropout(p=0.0, inplace=False)\n",
       "      (position_embeddings): Embedding(1026, 320, padding_idx=1)\n",
       "    )\n",
       "    (encoder): EsmEncoder(\n",
       "      (layer): ModuleList(\n",
       "        (0-5): 6 x EsmLayer(\n",
       "          (attention): EsmAttention(\n",
       "            (self): EsmSelfAttention(\n",
       "              (query): lora.Linear(\n",
       "                (base_layer): Linear(in_features=320, out_features=320, bias=True)\n",
       "                (lora_dropout): ModuleDict(\n",
       "                  (default): Identity()\n",
       "                )\n",
       "                (lora_A): ModuleDict(\n",
       "                  (default): Linear(in_features=320, out_features=8, bias=False)\n",
       "                )\n",
       "                (lora_B): ModuleDict(\n",
       "                  (default): Linear(in_features=8, out_features=320, bias=False)\n",
       "                )\n",
       "                (lora_embedding_A): ParameterDict()\n",
       "                (lora_embedding_B): ParameterDict()\n",
       "                (lora_magnitude_vector): ModuleDict()\n",
       "              )\n",
       "              (key): lora.Linear(\n",
       "                (base_layer): Linear(in_features=320, out_features=320, bias=True)\n",
       "                (lora_dropout): ModuleDict(\n",
       "                  (default): Identity()\n",
       "                )\n",
       "                (lora_A): ModuleDict(\n",
       "                  (default): Linear(in_features=320, out_features=8, bias=False)\n",
       "                )\n",
       "                (lora_B): ModuleDict(\n",
       "                  (default): Linear(in_features=8, out_features=320, bias=False)\n",
       "                )\n",
       "                (lora_embedding_A): ParameterDict()\n",
       "                (lora_embedding_B): ParameterDict()\n",
       "                (lora_magnitude_vector): ModuleDict()\n",
       "              )\n",
       "              (value): lora.Linear(\n",
       "                (base_layer): Linear(in_features=320, out_features=320, bias=True)\n",
       "                (lora_dropout): ModuleDict(\n",
       "                  (default): Identity()\n",
       "                )\n",
       "                (lora_A): ModuleDict(\n",
       "                  (default): Linear(in_features=320, out_features=8, bias=False)\n",
       "                )\n",
       "                (lora_B): ModuleDict(\n",
       "                  (default): Linear(in_features=8, out_features=320, bias=False)\n",
       "                )\n",
       "                (lora_embedding_A): ParameterDict()\n",
       "                (lora_embedding_B): ParameterDict()\n",
       "                (lora_magnitude_vector): ModuleDict()\n",
       "              )\n",
       "              (dropout): Dropout(p=0.0, inplace=False)\n",
       "              (rotary_embeddings): RotaryEmbedding()\n",
       "            )\n",
       "            (output): EsmSelfOutput(\n",
       "              (dense): Linear(in_features=320, out_features=320, bias=True)\n",
       "              (dropout): Dropout(p=0.0, inplace=False)\n",
       "            )\n",
       "            (LayerNorm): LayerNorm((320,), eps=1e-05, elementwise_affine=True)\n",
       "          )\n",
       "          (intermediate): EsmIntermediate(\n",
       "            (dense): Linear(in_features=320, out_features=1280, bias=True)\n",
       "          )\n",
       "          (output): EsmOutput(\n",
       "            (dense): Linear(in_features=1280, out_features=320, bias=True)\n",
       "            (dropout): Dropout(p=0.0, inplace=False)\n",
       "          )\n",
       "          (LayerNorm): LayerNorm((320,), eps=1e-05, elementwise_affine=True)\n",
       "        )\n",
       "      )\n",
       "      (emb_layer_norm_after): LayerNorm((320,), eps=1e-05, elementwise_affine=True)\n",
       "    )\n",
       "    (pooler): EsmPooler(\n",
       "      (dense): Linear(in_features=320, out_features=320, bias=True)\n",
       "      (activation): Tanh()\n",
       "    )\n",
       "    (contact_head): EsmContactPredictionHead(\n",
       "      (regression): Linear(in_features=120, out_features=1, bias=True)\n",
       "      (activation): Sigmoid()\n",
       "    )\n",
       "  )\n",
       ")"
      ]
     },
     "execution_count": 29,
     "metadata": {},
     "output_type": "execute_result"
    }
   ],
   "source": [
    "loaded_model.esm_model.base_model"
   ]
  },
  {
   "cell_type": "code",
   "execution_count": 23,
   "metadata": {},
   "outputs": [
    {
     "name": "stderr",
     "output_type": "stream",
     "text": [
      "/home/naka/code/egfr_binder_rd2/.venv/lib/python3.11/site-packages/lightning/fabric/plugins/environments/slurm.py:204: The `srun` command is available on your system but is not used. HINT: If your intention is to run Lightning on SLURM, prepend your python command with `srun` like so: srun python /home/naka/code/egfr_binder_rd2/.venv/lib/python3.11 ...\n",
      "Map: 100%|██████████| 729/729 [00:00<00:00, 9693.92 examples/s]\n",
      "Map: 100%|██████████| 91/91 [00:00<00:00, 7992.83 examples/s]\n",
      "Map: 100%|██████████| 92/92 [00:00<00:00, 7888.87 examples/s]\n",
      "LOCAL_RANK: 0 - CUDA_VISIBLE_DEVICES: [0]\n"
     ]
    },
    {
     "name": "stdout",
     "output_type": "stream",
     "text": [
      "Predicting DataLoader 0: 100%|██████████| 23/23 [00:01<00:00, 21.03it/s]\n"
     ]
    },
    {
     "name": "stderr",
     "output_type": "stream",
     "text": [
      "Map: 100%|██████████| 729/729 [00:00<00:00, 9834.76 examples/s]\n",
      "Map: 100%|██████████| 91/91 [00:00<00:00, 7865.83 examples/s]\n",
      "Map: 100%|██████████| 92/92 [00:00<00:00, 8048.14 examples/s]\n",
      "LOCAL_RANK: 0 - CUDA_VISIBLE_DEVICES: [0]\n"
     ]
    },
    {
     "name": "stdout",
     "output_type": "stream",
     "text": [
      "Predicting DataLoader 0: 100%|██████████| 3/3 [00:00<00:00, 21.59it/s] \n"
     ]
    },
    {
     "name": "stderr",
     "output_type": "stream",
     "text": [
      "Map: 100%|██████████| 729/729 [00:00<00:00, 9859.05 examples/s]\n",
      "Map: 100%|██████████| 91/91 [00:00<00:00, 7796.58 examples/s]\n",
      "Map: 100%|██████████| 92/92 [00:00<00:00, 7826.30 examples/s]\n",
      "LOCAL_RANK: 0 - CUDA_VISIBLE_DEVICES: [0]\n"
     ]
    },
    {
     "name": "stdout",
     "output_type": "stream",
     "text": [
      "Predicting DataLoader 0: 100%|██████████| 3/3 [00:00<00:00, 21.11it/s] \n",
      "\n",
      "Results by split:\n",
      "train split correlation: 0.955\n",
      "val split correlation: 0.910\n",
      "test split correlation: 0.859\n"
     ]
    }
   ],
   "source": [
    "# Get predictions for all splits\n",
    "predictions = {\n",
    "    'train': trainer.predict(loaded_model, dataloaders=data_module.train_dataloader(shuffle=False)),\n",
    "    'val': trainer.predict(loaded_model, dataloaders=data_module.val_dataloader()),\n",
    "    'test': trainer.predict(loaded_model, dataloaders=data_module.test_dataloader())\n",
    "}\n",
    "\n",
    "# Combine predictions\n",
    "results = {\n",
    "    'sequence': [],\n",
    "    'prediction': [],  # ensemble mean\n",
    "    'uncertainty': [], # ensemble std\n",
    "    'target': [],\n",
    "    'split': [],  # Track which split each prediction came from\n",
    "}\n",
    "\n",
    "# Add columns for each head\n",
    "num_heads = model.hparams.num_heads\n",
    "for i in range(num_heads):\n",
    "    results[f'head_{i}'] = []\n",
    "\n",
    "# Process predictions from each split\n",
    "for split_name, split_predictions in predictions.items():\n",
    "    for batch in split_predictions:\n",
    "        sequences = batch['sequence']\n",
    "        results['sequence'].extend(sequences)\n",
    "        results['split'].extend([split_name] * len(sequences))\n",
    "        \n",
    "        # Handle ensemble predictions and uncertainties\n",
    "        pred = batch['predictions'].cpu().numpy()\n",
    "        unc = batch['uncertainties'].cpu().numpy()\n",
    "        target = batch['target'].cpu().numpy()\n",
    "        if pred.ndim > 1:\n",
    "            pred = pred.squeeze()\n",
    "        if unc.ndim > 1:\n",
    "            unc = unc.squeeze()\n",
    "        if target.ndim > 1:\n",
    "            target = target.squeeze()\n",
    "        results['prediction'].extend(pred.reshape(-1))\n",
    "        results['uncertainty'].extend(unc.reshape(-1))\n",
    "        results['target'].extend(target.reshape(-1))\n",
    "\n",
    "        # Handle individual head predictions\n",
    "        head_preds = batch['head_predictions'].cpu().numpy()\n",
    "        if head_preds.ndim > 1:\n",
    "            head_preds = head_preds.squeeze()\n",
    "        if head_preds.ndim == 1:  # Single sample\n",
    "            head_preds = head_preds.reshape(1, -1)\n",
    "        \n",
    "        # Add each head's predictions\n",
    "        for i in range(num_heads):\n",
    "            results[f'head_{i}'].extend(head_preds[:, i])\n",
    "\n",
    "# Convert to DataFrame\n",
    "results_df = pd.DataFrame(results)\n",
    "\n",
    "# Now you can analyze results by split\n",
    "print(\"\\nResults by split:\")\n",
    "for split in ['train', 'val', 'test']:\n",
    "    split_df = results_df[results_df['split'] == split]\n",
    "    correlation = spearmanr(split_df['prediction'], split_df['target']).correlation\n",
    "    print(f\"{split} split correlation: {correlation:.3f}\")"
   ]
  },
  {
   "cell_type": "code",
   "execution_count": 24,
   "metadata": {},
   "outputs": [
    {
     "data": {
      "text/plain": [
       "<Axes: xlabel='target', ylabel='value'>"
      ]
     },
     "execution_count": 24,
     "metadata": {},
     "output_type": "execute_result"
    },
    {
     "data": {
      "image/png": "[encoded data removed]",
      "text/plain": [
       "<Figure size 640x480 with 1 Axes>"
      ]
     },
     "metadata": {},
     "output_type": "display_data"
    }
   ],
   "source": [
    "melted = results_df.melt(id_vars=['sequence', 'prediction', 'target', 'uncertainty', 'split'])\n",
    "sns.scatterplot(melted.query('split == \"test\"'), x='target', y='value')"
   ]
  },
  {
   "cell_type": "code",
   "execution_count": 55,
   "metadata": {},
   "outputs": [
    {
     "name": "stderr",
     "output_type": "stream",
     "text": [
      "/tmp/ipykernel_339285/2427733664.py:1: FutureWarning: You are using `torch.load` with `weights_only=False` (the current default value), which uses the default pickle module implicitly. It is possible to construct malicious pickle data which will execute arbitrary code during unpickling (See https://github.com/pytorch/pytorch/blob/main/SECURITY.md#untrusted-models for more details). In a future release, the default value for `weights_only` will be flipped to `True`. This limits the functions that could be executed during unpickling. Arbitrary objects will no longer be allowed to be loaded via this mode unless they are explicitly allowlisted by the user via `torch.serialization.add_safe_globals`. We recommend you start setting `weights_only=True` for any use case where you don't have full control of the loaded file. Please open an issue on GitHub for any issues related to this experimental feature.\n",
      "  saved_dict = torch.load(\"test.pt\")\n"
     ]
    }
   ],
   "source": [
    "saved_dict = torch.load(\"test.pt\")"
   ]
  },
  {
   "cell_type": "code",
   "execution_count": 9,
   "metadata": {},
   "outputs": [
    {
     "name": "stdout",
     "output_type": "stream",
     "text": [
      "\n",
      "Results by split:\n",
      "train split correlation: 0.981\n",
      "val split correlation: 0.946\n",
      "test split correlation: 0.914\n"
     ]
    }
   ],
   "source": [
    "\n",
    "# Now you can analyze results by split\n",
    "print(\"\\nResults by split:\")\n",
    "for split in ['train', 'val', 'test']:\n",
    "    split_df = results_df[results_df['split'] == split]\n",
    "    correlation = spearmanr(split_df['prediction'], split_df['target']).correlation\n",
    "    print(f\"{split} split correlation: {correlation:.3f}\")"
   ]
  },
  {
   "cell_type": "code",
   "execution_count": null,
   "metadata": {},
   "outputs": [],
   "source": [
    "\n",
    "print(\"DataFrame shape:\", results_df.shape)\n",
    "print(\"\\nFirst few rows:\")\n",
    "print(results_df.head())\n",
    "\n",
    "# Plot distribution of predictions for a few samples\n",
    "plt.figure(figsize=(12, 6))\n",
    "for i in range(min(5, len(results_df))):\n",
    "    head_values = [results_df[f'head_{j}'][i] for j in range(num_heads)]\n",
    "    plt.scatter([i] * num_heads, head_values, alpha=0.5, label=f'Sample {i}')\n",
    "    plt.scatter(i, results_df['prediction'][i], color='red', marker='x')\n",
    "plt.xlabel('Sample Index')\n",
    "plt.ylabel('Prediction Value')\n",
    "plt.title('Individual Head Predictions vs Ensemble Mean')\n",
    "plt.legend()\n",
    "plt.show()\n",
    "\n",
    "# Plot correlation between heads\n",
    "head_cols = [f'head_{i}' for i in range(num_heads)]\n",
    "correlation_matrix = results_df[head_cols].corr()"
   ]
  },
  {
   "cell_type": "code",
   "execution_count": 11,
   "metadata": {},
   "outputs": [],
   "source": []
  }
 ],
 "metadata": {
  "kernelspec": {
   "display_name": ".venv",
   "language": "python",
   "name": "python3"
  },
  "language_info": {
   "codemirror_mode": {
    "name": "ipython",
    "version": 3
   },
   "file_extension": ".py",
   "mimetype": "text/x-python",
   "name": "python",
   "nbconvert_exporter": "python",
   "pygments_lexer": "ipython3",
   "version": "3.11.10"
  }
 },
 "nbformat": 4,
 "nbformat_minor": 2
}
