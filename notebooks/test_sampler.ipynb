{
 "cells": [
  {
   "cell_type": "code",
   "execution_count": 11,
   "metadata": {},
   "outputs": [],
   "source": [
    "import modal\n",
    "from typing import List, Optional, Dict\n",
    "import logging\n",
    "import pandas as pd\n",
    "import torch\n",
    "from datetime import datetime\n",
    "import numpy as np\n",
    "\n",
    "from egfr_binder_rd2.bt import BTEnsemble\n",
    "from egfr_binder_rd2 import (\n",
    "    LOGGING_CONFIG, MODAL_VOLUME_PATH, OUTPUT_DIRS, \n",
    "    ExpertType, ExpertConfig, EvolutionMetadata, PartialEnsembleExpertConfig)\n",
    "from egfr_binder_rd2.sampler import DirectedEvolution\n",
    "# Set up logging"
   ]
  },
  {
   "cell_type": "code",
   "execution_count": 16,
   "metadata": {},
   "outputs": [],
   "source": [
    "parent_binder_seqs = [\n",
    "       'PSFSACPSNYDGVCCNGGVCHLAESLTSYTCQCILGYSGHRVQTFDLRYTELRRR'\n",
    "    ] * 10\n",
    "\n",
    "parent_binder_seqs=parent_binder_seqs\n",
    "generations=80\n",
    "n_to_fold=50                # Total sequences to fold per generation\n",
    "num_parents=25               # Number of parents to keep\n",
    "top_k=50                    # Top sequences to consider\n",
    "n_parallel_chains=4        # Parallel chains per sequence\n",
    "n_serial_chains=1           # Sequential runs per sequence\n",
    "n_steps=10                  # Steps per chain\n",
    "max_mutations=5             # Max mutations per sequence\n",
    "evoprotgrad_top_fraction=0.25\n",
    "parent_selection_temperature=0.5\n",
    "sequence_sampling_temperature=0.5\n",
    "retrain_frequency=3\n",
    "seed=42\n",
    "select_from_current_gen_only=False"
   ]
  },
  {
   "cell_type": "code",
   "execution_count": 4,
   "metadata": {},
   "outputs": [],
   "source": [
    "current_parent_seqs = parent_binder_seqs.copy()\n",
    "expert_configs = None\n",
    "all_final_sequences = []\n",
    "\n",
    "# Create metadata tracker\n",
    "config = {\n",
    "\"generations\": generations,\n",
    "\"n_to_fold\": n_to_fold,\n",
    "\"num_parents\": num_parents,\n",
    "\"top_k\": top_k,\n",
    "\"n_parallel_chains\": n_parallel_chains,\n",
    "\"n_serial_chains\": n_serial_chains,\n",
    "\"n_steps\": n_steps,\n",
    "\"max_mutations\": max_mutations,\n",
    "\"evoprotgrad_top_fraction\": evoprotgrad_top_fraction,\n",
    "\"parent_selection_temperature\": parent_selection_temperature,\n",
    "\"sequence_sampling_temperature\": sequence_sampling_temperature,\n",
    "\"retrain_frequency\": retrain_frequency,\n",
    "\"seed\": seed\n",
    "}"
   ]
  },
  {
   "cell_type": "code",
   "execution_count": 39,
   "metadata": {},
   "outputs": [],
   "source": [
    "sample_sequences = modal.Function.lookup(\"bt-training\", \"sample_sequences\")\n",
    "train_bt_model = modal.Function.lookup(\"bt-training\", \"train_bt_model\")\n",
    "process_sequences = modal.Function.lookup(\"esm2-inference\", \"process_sequences\")\n",
    "update_pll_metrics = modal.Function.lookup(\"esm2-inference\", \"update_pll_metrics\")\n",
    "fold_binder = modal.Function.lookup(\"simplefold\", \"fold_binder\")\n",
    "parallel_fold_binder = modal.Function.lookup(\"simplefold\", \"parallel_fold_binder\")\n",
    "update_metrics = modal.Function.lookup(\"simplefold\", \"update_metrics_for_all_folded\")"
   ]
  },
  {
   "cell_type": "code",
   "execution_count": 8,
   "metadata": {},
   "outputs": [],
   "source": [
    "# Train PAE interaction expert\n",
    "pae_model_path = train_bt_model.remote(\n",
    "    yvar=\"pae_interaction\",\n",
    "    wandb_project=\"egfr-binder-rd2\",\n",
    "    wandb_entity=\"anaka_personal\",\n",
    "    transform_type=\"standardize\",\n",
    "    make_negative=True,\n",
    ")\n"
   ]
  },
  {
   "cell_type": "code",
   "execution_count": null,
   "metadata": {},
   "outputs": [],
   "source": []
  },
  {
   "cell_type": "code",
   "execution_count": 48,
   "metadata": {},
   "outputs": [],
   "source": [
    "iptm_model_path = train_bt_model.remote(\n",
    "    yvar=\"i_ptm\",\n",
    "    wandb_project=\"egfr-binder-rd2\",\n",
    "    wandb_entity=\"anaka_personal\",\n",
    "    transform_type=\"standardize\",\n",
    "    make_negative=False,\n",
    "    max_epochs=3,\n",
    ")"
   ]
  },
  {
   "cell_type": "code",
   "execution_count": 9,
   "metadata": {},
   "outputs": [],
   "source": [
    "gen = 1"
   ]
  },
  {
   "cell_type": "code",
   "execution_count": 54,
   "metadata": {},
   "outputs": [],
   "source": [
    "expert_configs = [\n",
    "    ExpertConfig(\n",
    "        type=ExpertType.ESM,\n",
    "        temperature=1.0,\n",
    "    ),\n",
    "    PartialEnsembleExpertConfig(\n",
    "        type=ExpertType.iPAE,\n",
    "        temperature=1.0,\n",
    "        make_negative=True,\n",
    "        transform_type=\"standardize\",\n",
    "    ),\n",
    "    PartialEnsembleExpertConfig(\n",
    "        type=ExpertType.iPTM,\n",
    "        temperature=1.0,\n",
    "        make_negative=False,\n",
    "        transform_type=\"standardize\",\n",
    "    ),\n",
    "]"
   ]
  },
  {
   "cell_type": "code",
   "execution_count": 55,
   "metadata": {},
   "outputs": [],
   "source": [
    "seqs_per_parent = max(1, n_to_fold // len(current_parent_seqs))\n",
    "\n",
    "# Process each parent sequence\n",
    "all_variants = []\n"
   ]
  },
  {
   "cell_type": "code",
   "execution_count": 61,
   "metadata": {},
   "outputs": [],
   "source": [
    "evoprotgrad_df = sample_sequences.remote(\n",
    "    sequences=current_parent_seqs,  # Pass all parent sequences at once\n",
    "    expert_configs=expert_configs,\n",
    "    n_parallel_chains=n_parallel_chains,\n",
    "    n_serial_chains=n_serial_chains,\n",
    "    n_steps=n_steps,\n",
    "    max_mutations=max_mutations,\n",
    "    seed=seed + gen,\n",
    "    run_inference=True,\n",
    ")"
   ]
  },
  {
   "cell_type": "code",
   "execution_count": 63,
   "metadata": {},
   "outputs": [],
   "source": [
    "evoprotgrad_df['i_ptm_ucb_rank'] = evoprotgrad_df['i_ptm_ucb'].rank(pct=True)\n",
    "evoprotgrad_df['pae_interaction_ucb_rank'] = evoprotgrad_df['pae_interaction_ucb'].rank(pct=True)\n",
    "evoprotgrad_df['sequence_log_pll_rank'] = evoprotgrad_df['sequence_log_pll'].rank(pct=True)\n",
    "evoprotgrad_df['fitness_ucb'] = (evoprotgrad_df['i_ptm_ucb'] + evoprotgrad_df['pae_interaction_ucb'] + evoprotgrad_df['sequence_log_pll_rank']) / 3"
   ]
  },
  {
   "cell_type": "code",
   "execution_count": 59,
   "metadata": {},
   "outputs": [
    {
     "data": {
      "text/plain": [
       "Index(['run', 'parent_idx', 'parent_seq', 'parent_hash', 'chain', 'step',\n",
       "       'score', 'sequence', 'sequence_hash', 'length', 'sequence_log_pll',\n",
       "       'pae_interaction_mean', 'pae_interaction_std', 'pae_interaction_ucb',\n",
       "       'pae_interaction_head_0', 'pae_interaction_head_1',\n",
       "       'pae_interaction_head_2', 'pae_interaction_head_3',\n",
       "       'pae_interaction_head_4', 'i_ptm_mean', 'i_ptm_std', 'i_ptm_ucb',\n",
       "       'i_ptm_head_0', 'i_ptm_head_1', 'i_ptm_head_2', 'i_ptm_head_3',\n",
       "       'i_ptm_head_4'],\n",
       "      dtype='object')"
      ]
     },
     "execution_count": 59,
     "metadata": {},
     "output_type": "execute_result"
    }
   ],
   "source": [
    "evoprotgrad_df.columns\n"
   ]
  },
  {
   "cell_type": "code",
   "execution_count": 68,
   "metadata": {},
   "outputs": [],
   "source": [
    "# Sample sequences from the top fraction, now considering parent information\n",
    "all_variants_with_parents = []  # New list to track variants with their parents\n",
    "for parent_idx, parent_seq in enumerate(current_parent_seqs):\n",
    "    parent_variants = evoprotgrad_df[evoprotgrad_df['parent_seq'] == parent_seq]\n",
    "    if len(parent_variants) > 0:\n",
    "        sampled_variants = DirectedEvolution.sample_from_evoprotgrad_sequences(\n",
    "            parent_variants,\n",
    "            top_fraction=evoprotgrad_top_fraction,\n",
    "            sample_size=seqs_per_parent,\n",
    "            temperature=sequence_sampling_temperature\n",
    "        )\n",
    "        # Store variants with their parent information\n",
    "        all_variants_with_parents.extend([(variant, parent_seq) for variant in sampled_variants])\n",
    "        all_variants.extend(sampled_variants)"
   ]
  }
 ],
 "metadata": {
  "kernelspec": {
   "display_name": ".venv",
   "language": "python",
   "name": "python3"
  },
  "language_info": {
   "codemirror_mode": {
    "name": "ipython",
    "version": 3
   },
   "file_extension": ".py",
   "mimetype": "text/x-python",
   "name": "python",
   "nbconvert_exporter": "python",
   "pygments_lexer": "ipython3",
   "version": "3.11.10"
  }
 },
 "nbformat": 4,
 "nbformat_minor": 2
}
