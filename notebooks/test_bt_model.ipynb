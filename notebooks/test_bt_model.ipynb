{
 "cells": [
  {
   "cell_type": "code",
   "execution_count": 1,
   "metadata": {},
   "outputs": [
    {
     "name": "stderr",
     "output_type": "stream",
     "text": [
      "/home/naka/code/egfr_binder_rd2/.venv/lib/python3.11/site-packages/tqdm/auto.py:21: TqdmWarning: IProgress not found. Please update jupyter and ipywidgets. See https://ipywidgets.readthedocs.io/en/stable/user_install.html\n",
      "  from .autonotebook import tqdm as notebook_tqdm\n"
     ]
    }
   ],
   "source": [
    "from datetime import datetime\n",
    "from pathlib import Path\n",
    "import os\n",
    "\n",
    "import click\n",
    "import torch\n",
    "import wandb\n",
    "from lightning import Trainer\n",
    "from lightning.pytorch.callbacks import EarlyStopping\n",
    "from lightning.pytorch.loggers import WandbLogger\n",
    "import logging\n",
    "import lightning as L\n",
    "import numpy as np\n",
    "import pandas as pd\n",
    "import seaborn as sns\n",
    "import matplotlib.pyplot as plt\n",
    "from scipy.stats import spearmanr\n",
    "from transformers import EsmForMaskedLM, AutoTokenizer\n",
    "\n",
    "\n",
    "from egfr_binder_rd2.datamodule import SequenceDataModule\n",
    "from egfr_binder_rd2.bt import BTRegressionModule\n",
    "from egfr_binder_rd2.binding_dataset import get_dataset\n",
    "\n",
    "\n",
    "%load_ext autoreload\n",
    "%autoreload 2\n",
    "\n",
    "torch.set_float32_matmul_precision('medium')\n",
    "\n",
    "seed = 42\n",
    "debug = True\n"
   ]
  },
  {
   "cell_type": "code",
   "execution_count": 2,
   "metadata": {},
   "outputs": [],
   "source": [
    "def setup_logging(debug: bool):\n",
    "    level = logging.DEBUG if debug else logging.INFO\n",
    "    logging.basicConfig(\n",
    "        level=level,\n",
    "        format='%(asctime)s - %(name)s - %(levelname)s - %(message)s',\n",
    "        datefmt='%Y-%m-%d %H:%M:%S'\n",
    "    )\n",
    "    logger = logging.getLogger(__name__)\n",
    "    logger.info(\"Logging setup complete.\")\n",
    "    return logger"
   ]
  },
  {
   "cell_type": "code",
   "execution_count": 3,
   "metadata": {},
   "outputs": [],
   "source": [
    "yvar = 'Average_i_pAE'\n",
    "# yvar = 'Average_i_pTM'\n",
    "yvar = 'Average_pLDDT'\n",
    "yvar = 'encoded_expression'"
   ]
  },
  {
   "cell_type": "code",
   "execution_count": null,
   "metadata": {},
   "outputs": [],
   "source": [
    "fp = '/home/naka/code/BindCraft/outputs/EGFR_single_domain/mpnn_design_stats.csv'\n",
    "df = pd.read_csv(fp)\n"
   ]
  },
  {
   "cell_type": "code",
   "execution_count": null,
   "metadata": {},
   "outputs": [],
   "source": [
    "fp = 'https://raw.githubusercontent.com/adaptyvbio/egfr_competition_1/refs/heads/main/results/replicate_summary.csv'\n",
    "seqs = pd.read_csv('https://raw.githubusercontent.com/adaptyvbio/egfr_competition_1/refs/heads/main/results/result_summary.csv')\n",
    "df = pd.read_csv(fp).merge(seqs[['name', 'sequence']])"
   ]
  },
  {
   "cell_type": "code",
   "execution_count": null,
   "metadata": {},
   "outputs": [],
   "source": [
    "expression_map = {'low': 1, 'medium': 2, 'high': 3, 'none': 0}\n",
    "df['encoded_expression'] = df['nc_adjusted_expression'].map(expression_map)"
   ]
  },
  {
   "cell_type": "code",
   "execution_count": null,
   "metadata": {},
   "outputs": [],
   "source": [
    "df = df.groupby(['name', 'sequence']).agg({'encoded_expression': 'mean'}).reset_index()"
   ]
  },
  {
   "cell_type": "code",
   "execution_count": 3,
   "metadata": {},
   "outputs": [
    {
     "ename": "NameError",
     "evalue": "name 'df' is not defined",
     "output_type": "error",
     "traceback": [
      "\u001b[0;31m---------------------------------------------------------------------------\u001b[0m",
      "\u001b[0;31mNameError\u001b[0m                                 Traceback (most recent call last)",
      "Cell \u001b[0;32mIn[3], line 1\u001b[0m\n\u001b[0;32m----> 1\u001b[0m \u001b[43mdf\u001b[49m\u001b[38;5;241m.\u001b[39mdropna(subset\u001b[38;5;241m=\u001b[39m[yvar])\n",
      "\u001b[0;31mNameError\u001b[0m: name 'df' is not defined"
     ]
    }
   ],
   "source": [
    "df.dropna(subset=[yvar])"
   ]
  },
  {
   "cell_type": "code",
   "execution_count": 3,
   "metadata": {},
   "outputs": [],
   "source": [
    "df = get_dataset()\n",
    "yvar = 'pae_interaction'\n",
    "xvar = 'binder_sequence'"
   ]
  },
  {
   "cell_type": "code",
   "execution_count": null,
   "metadata": {},
   "outputs": [],
   "source": []
  },
  {
   "cell_type": "code",
   "execution_count": 4,
   "metadata": {},
   "outputs": [
    {
     "name": "stderr",
     "output_type": "stream",
     "text": [
      "Map: 100%|██████████| 635/635 [00:00<00:00, 2606.31 examples/s]\n",
      "Map: 100%|██████████| 71/71 [00:00<00:00, 2614.21 examples/s]\n",
      "Map: 100%|██████████| 177/177 [00:00<00:00, 2552.49 examples/s]\n",
      "Map: 100%|██████████| 635/635 [00:00<00:00, 2746.98 examples/s]\n",
      "Map: 100%|██████████| 71/71 [00:00<00:00, 2621.88 examples/s]\n",
      "Map: 100%|██████████| 177/177 [00:00<00:00, 2646.39 examples/s]\n",
      "/home/naka/code/egfr_binder_rd2/.venv/lib/python3.11/site-packages/huggingface_hub/file_download.py:797: FutureWarning: `resume_download` is deprecated and will be removed in version 1.0.0. Downloads always resume when possible. If you want to force a new download, use `force_download=True`.\n",
      "  warnings.warn(\n",
      "Map: 100%|██████████| 635/635 [00:00<00:00, 2164.20 examples/s]\n",
      "Map: 100%|██████████| 71/71 [00:00<00:00, 3094.43 examples/s]\n",
      "Map: 100%|██████████| 177/177 [00:00<00:00, 3412.29 examples/s]\n"
     ]
    }
   ],
   "source": [
    "\n",
    "# Create and setup the DataModule\n",
    "data_module = SequenceDataModule(\n",
    "    df, \n",
    "    tokenizer_name=\"facebook/esm2_t33_650M_UR50D\",\n",
    "    xvar=xvar,\n",
    "    yvar=yvar,  # You can change this to any other column name in your DataFrame\n",
    "    batch_size=8,\n",
    "    max_length=512,\n",
    "    transform_type='rank',\n",
    "    make_negative=True,\n",
    ")\n",
    "data_module.setup()\n",
    "\n"
   ]
  },
  {
   "cell_type": "code",
   "execution_count": 5,
   "metadata": {},
   "outputs": [
    {
     "name": "stderr",
     "output_type": "stream",
     "text": [
      "Some weights of EsmForSequenceClassification were not initialized from the model checkpoint at facebook/esm2_t6_8M_UR50D and are newly initialized: ['classifier.dense.bias', 'classifier.dense.weight', 'classifier.out_proj.bias', 'classifier.out_proj.weight']\n",
      "You should probably TRAIN this model on a down-stream task to be able to use it for predictions and inference.\n",
      "/home/naka/code/egfr_binder_rd2/.venv/lib/python3.11/site-packages/torchmetrics/utilities/prints.py:43: UserWarning: Metric `SpearmanCorrcoef` will save all targets and predictions in the buffer. For large datasets, this may lead to large memory footprint.\n",
      "  warnings.warn(*args, **kwargs)  # noqa: B028\n",
      "/home/naka/code/egfr_binder_rd2/.venv/lib/python3.11/site-packages/lightning/fabric/plugins/environments/slurm.py:204: The `srun` command is available on your system but is not used. HINT: If your intention is to run Lightning on SLURM, prepend your python command with `srun` like so: srun python /home/naka/code/egfr_binder_rd2/.venv/lib/python3.11 ...\n",
      "GPU available: True (cuda), used: True\n",
      "TPU available: False, using: 0 TPU cores\n",
      "HPU available: False, using: 0 HPUs\n"
     ]
    }
   ],
   "source": [
    "\n",
    "# 3. Create the model\n",
    "model = BTRegressionModule(\n",
    "    label=yvar,\n",
    "    # model_name=\"facebook/esm2_t33_650M_UR50D\",\n",
    "    # model_name=\"facebook/esm2_t30_150M_UR50D\",\n",
    "    # model_name='facebook/esm2_t12_35M_UR50D',\n",
    "    model_name='facebook/esm2_t6_8M_UR50D',\n",
    "    lr=3e-4,\n",
    "    peft_r=8,\n",
    "    peft_alpha=16,\n",
    "    max_length=512,\n",
    ")\n",
    "\n",
    "# 4. Set up callbacks\n",
    "early_stop_callback = EarlyStopping(\n",
    "    monitor='val_spearman',\n",
    "    min_delta=0.00,\n",
    "    patience=30,\n",
    "    verbose=False,\n",
    "    mode='max'\n",
    ")\n",
    "\n",
    "# 5. Set up wandb logger\n",
    "wandb_logger = WandbLogger(project=\"bt_regression\")\n",
    "\n",
    "# 6. Create the trainer\n",
    "trainer = L.Trainer(\n",
    "    max_epochs=3,\n",
    "    callbacks=[early_stop_callback],\n",
    "    logger=wandb_logger,\n",
    "    accelerator='gpu',\n",
    "    devices=1,  # Use 1 GPU\n",
    "    log_every_n_steps=10,\n",
    "    enable_checkpointing=False,  # Disable checkpoint saving\n",
    "    val_check_interval=0.25,  # Check validation 4 times per epoch\n",
    ")\n"
   ]
  },
  {
   "cell_type": "code",
   "execution_count": 6,
   "metadata": {},
   "outputs": [
    {
     "name": "stderr",
     "output_type": "stream",
     "text": [
      "\u001b[34m\u001b[1mwandb\u001b[0m: Using wandb-core as the SDK backend. Please refer to https://wandb.me/wandb-core for more information.\n",
      "\u001b[34m\u001b[1mwandb\u001b[0m: Currently logged in as: \u001b[33manaka\u001b[0m (\u001b[33manaka_personal\u001b[0m). Use \u001b[1m`wandb login --relogin`\u001b[0m to force relogin\n"
     ]
    },
    {
     "data": {
      "text/html": [
       "Tracking run with wandb version 0.18.5"
      ],
      "text/plain": [
       "<IPython.core.display.HTML object>"
      ]
     },
     "metadata": {},
     "output_type": "display_data"
    },
    {
     "data": {
      "text/html": [
       "Run data is saved locally in <code>./wandb/run-20241101_093050-e18tlrub</code>"
      ],
      "text/plain": [
       "<IPython.core.display.HTML object>"
      ]
     },
     "metadata": {},
     "output_type": "display_data"
    },
    {
     "data": {
      "text/html": [
       "Syncing run <strong><a href='https://wandb.ai/anaka_personal/bt_regression/runs/e18tlrub' target=\"_blank\">glowing-wealth-24</a></strong> to <a href='https://wandb.ai/anaka_personal/bt_regression' target=\"_blank\">Weights & Biases</a> (<a href='https://wandb.me/run' target=\"_blank\">docs</a>)<br/>"
      ],
      "text/plain": [
       "<IPython.core.display.HTML object>"
      ]
     },
     "metadata": {},
     "output_type": "display_data"
    },
    {
     "data": {
      "text/html": [
       " View project at <a href='https://wandb.ai/anaka_personal/bt_regression' target=\"_blank\">https://wandb.ai/anaka_personal/bt_regression</a>"
      ],
      "text/plain": [
       "<IPython.core.display.HTML object>"
      ]
     },
     "metadata": {},
     "output_type": "display_data"
    },
    {
     "data": {
      "text/html": [
       " View run at <a href='https://wandb.ai/anaka_personal/bt_regression/runs/e18tlrub' target=\"_blank\">https://wandb.ai/anaka_personal/bt_regression/runs/e18tlrub</a>"
      ],
      "text/plain": [
       "<IPython.core.display.HTML object>"
      ]
     },
     "metadata": {},
     "output_type": "display_data"
    },
    {
     "name": "stderr",
     "output_type": "stream",
     "text": [
      "Map: 100%|██████████| 635/635 [00:00<00:00, 2706.40 examples/s]\n",
      "Map: 100%|██████████| 71/71 [00:00<00:00, 2247.82 examples/s]\n",
      "Map: 100%|██████████| 177/177 [00:00<00:00, 2663.59 examples/s]\n",
      "Map: 100%|██████████| 635/635 [00:00<00:00, 2703.12 examples/s]\n",
      "Map: 100%|██████████| 71/71 [00:00<00:00, 2713.60 examples/s]\n",
      "Map: 100%|██████████| 177/177 [00:00<00:00, 2797.16 examples/s]\n",
      "/home/naka/code/egfr_binder_rd2/.venv/lib/python3.11/site-packages/huggingface_hub/file_download.py:797: FutureWarning: `resume_download` is deprecated and will be removed in version 1.0.0. Downloads always resume when possible. If you want to force a new download, use `force_download=True`.\n",
      "  warnings.warn(\n",
      "Map: 100%|██████████| 635/635 [00:00<00:00, 2204.24 examples/s]\n",
      "Map: 100%|██████████| 71/71 [00:00<00:00, 3159.30 examples/s]\n",
      "Map: 100%|██████████| 177/177 [00:00<00:00, 3380.22 examples/s]\n",
      "LOCAL_RANK: 0 - CUDA_VISIBLE_DEVICES: [0]\n",
      "\n",
      "  | Name          | Type                               | Params | Mode \n",
      "-----------------------------------------------------------------------------\n",
      "0 | esm_model     | PeftModelForSequenceClassification | 8.0 M  | train\n",
      "1 | bt_loss       | BradleyTerryLoss                   | 0      | train\n",
      "2 | train_metrics | MetricCollection                   | 0      | train\n",
      "3 | val_mae       | MeanAbsoluteError                  | 0      | train\n",
      "4 | val_spearman  | SpearmanCorrCoef                   | 0      | train\n",
      "-----------------------------------------------------------------------------\n",
      "195 K     Trainable params\n",
      "7.8 M     Non-trainable params\n",
      "8.0 M     Total params\n",
      "32.143    Total estimated model params size (MB)\n",
      "190       Modules in train mode\n",
      "128       Modules in eval mode\n"
     ]
    },
    {
     "name": "stdout",
     "output_type": "stream",
     "text": [
      "Epoch 2: 100%|██████████| 80/80 [00:04<00:00, 18.52it/s, v_num=lrub]       "
     ]
    },
    {
     "name": "stderr",
     "output_type": "stream",
     "text": [
      "`Trainer.fit` stopped: `max_epochs=3` reached.\n"
     ]
    },
    {
     "name": "stdout",
     "output_type": "stream",
     "text": [
      "Epoch 2: 100%|██████████| 80/80 [00:04<00:00, 18.52it/s, v_num=lrub]\n"
     ]
    }
   ],
   "source": [
    "\n",
    "# 7. Train the model\n",
    "trainer.fit(model, data_module)\n"
   ]
  },
  {
   "cell_type": "code",
   "execution_count": 7,
   "metadata": {},
   "outputs": [],
   "source": [
    "from egfr_binder_rd2.utils import hash_seq"
   ]
  },
  {
   "cell_type": "code",
   "execution_count": null,
   "metadata": {},
   "outputs": [],
   "source": [
    "train_preds = trainer.predict(model, data_module.train_dataloader(shuffle=False))\n",
    "val_preds = trainer.predict(model, data_module.val_dataloader())\n",
    "test_preds = trainer.predict(model, data_module.test_dataloader())\n",
    "\n"
   ]
  },
  {
   "cell_type": "code",
   "execution_count": 21,
   "metadata": {},
   "outputs": [],
   "source": [
    "\n",
    "# Convert predictions and sequences to lists\n",
    "def create_pred_df(predictions_list, name=\"\"):\n",
    "    try:\n",
    "        # Validate predictions\n",
    "        if not predictions_list or any(x is None for x in predictions_list):\n",
    "            raise ValueError(f\"Empty or None predictions in {name} set\")\n",
    "            \n",
    "        # Validate prediction tensors and sequences\n",
    "        pred_tensors = []\n",
    "        sequences = []\n",
    "        for batch in predictions_list:\n",
    "            if 'predictions' not in batch or 'sequence' not in batch:\n",
    "                raise ValueError(f\"Missing predictions or sequence in {name} batch\")\n",
    "                \n",
    "            pred_tensor = batch['predictions'].view(-1, 1)\n",
    "            if not torch.is_tensor(pred_tensor) or pred_tensor.numel() == 0:\n",
    "                raise ValueError(f\"Invalid prediction tensor in {name} batch\")\n",
    "                \n",
    "            pred_tensors.append(pred_tensor)\n",
    "            sequences.extend(batch['sequence'])\n",
    "        \n",
    "        # Validate sequences are strings\n",
    "        if not all(isinstance(seq, str) for seq in sequences):\n",
    "            raise ValueError(f\"Non-string sequences found in {name} set\")\n",
    "            \n",
    "        # Create dataframe\n",
    "        df = pd.DataFrame({\n",
    "            'predictions': torch.cat(pred_tensors).cpu().numpy().squeeze(),\n",
    "            'sequence': sequences,\n",
    "        })\n",
    "        \n",
    "        # Add hash column only if sequences are valid\n",
    "        df['hash'] = df['sequence'].apply(lambda x: hash_seq(x) if isinstance(x, str) else None)\n",
    "        \n",
    "        return df\n",
    "        \n",
    "    except Exception as e:\n",
    "        raise e\n",
    "\n",
    "# Convert predictions and sequences to dataframes\n",
    "train_df = create_pred_df(train_preds, \"train\") \n",
    "val_df = create_pred_df(val_preds, \"validation\")\n",
    "test_df = create_pred_df(test_preds, \"test\")\n",
    "\n",
    "# Add sequence info and other metrics\n",
    "train_df[yvar] = data_module.train_dataset[yvar].numpy()\n",
    "val_df[yvar] = data_module.val_dataset[yvar].numpy()\n",
    "test_df[yvar] = data_module.test_dataset[yvar].numpy()\n",
    "\n",
    "# Add additional metrics\n",
    "for df, split_name in [(train_df, 'train'), (val_df, 'val'), (test_df, 'test')]:\n",
    "    df['pred_rank'] = df['predictions'].rank()\n",
    "    df['true_rank'] = df[yvar].rank()\n",
    "    df['residuals'] = df[yvar] - df['predictions']\n",
    "    df['split'] = split_name\n",
    "    df['length'] = df['sequence'].str.len()\n",
    "    df['hash'] = df['sequence'].apply(hash_seq)\n"
   ]
  },
  {
   "cell_type": "code",
   "execution_count": 22,
   "metadata": {},
   "outputs": [
    {
     "ename": "NameError",
     "evalue": "name 'train_actual' is not defined",
     "output_type": "error",
     "traceback": [
      "\u001b[0;31m---------------------------------------------------------------------------\u001b[0m",
      "\u001b[0;31mNameError\u001b[0m                                 Traceback (most recent call last)",
      "Cell \u001b[0;32mIn[22], line 5\u001b[0m\n\u001b[1;32m      2\u001b[0m fig, (ax1, ax2, ax3) \u001b[38;5;241m=\u001b[39m plt\u001b[38;5;241m.\u001b[39msubplots(\u001b[38;5;241m1\u001b[39m, \u001b[38;5;241m3\u001b[39m, figsize\u001b[38;5;241m=\u001b[39m(\u001b[38;5;241m15\u001b[39m, \u001b[38;5;241m5\u001b[39m))\n\u001b[1;32m      4\u001b[0m \u001b[38;5;66;03m# Plot training data\u001b[39;00m\n\u001b[0;32m----> 5\u001b[0m sns\u001b[38;5;241m.\u001b[39mscatterplot(x\u001b[38;5;241m=\u001b[39m\u001b[43mtrain_actual\u001b[49m, y\u001b[38;5;241m=\u001b[39mtrain_preds, ax\u001b[38;5;241m=\u001b[39max1)\n\u001b[1;32m      6\u001b[0m ax1\u001b[38;5;241m.\u001b[39mset_title(\u001b[38;5;124m'\u001b[39m\u001b[38;5;124mTraining Set\u001b[39m\u001b[38;5;124m'\u001b[39m)\n\u001b[1;32m      7\u001b[0m ax1\u001b[38;5;241m.\u001b[39mset_xlabel(\u001b[38;5;124m'\u001b[39m\u001b[38;5;124mActual\u001b[39m\u001b[38;5;124m'\u001b[39m)\n",
      "\u001b[0;31mNameError\u001b[0m: name 'train_actual' is not defined"
     ]
    },
    {
     "data": {
      "image/png": "[encoded data removed]",
      "text/plain": [
       "<Figure size 1500x500 with 3 Axes>"
      ]
     },
     "metadata": {},
     "output_type": "display_data"
    }
   ],
   "source": [
    "\n",
    "# Create figure with three subplots\n",
    "fig, (ax1, ax2, ax3) = plt.subplots(1, 3, figsize=(15, 5))\n",
    "\n",
    "# Plot training data\n",
    "sns.scatterplot(x=train_actual, y=train_preds, ax=ax1)\n",
    "ax1.set_title('Training Set')\n",
    "ax1.set_xlabel('Actual')\n",
    "ax1.set_ylabel('Predicted')\n",
    "\n",
    "# Plot validation data\n",
    "sns.scatterplot(x=val_actual, y=val_preds, ax=ax2)\n",
    "ax2.set_title('Validation Set')\n",
    "ax2.set_xlabel('Actual')\n",
    "ax2.set_ylabel('Predicted')\n",
    "\n",
    "# Plot test data\n",
    "sns.scatterplot(x=test_actual, y=test_preds, ax=ax3)\n",
    "ax3.set_title('Test Set')\n",
    "ax3.set_xlabel('Actual')\n",
    "ax3.set_ylabel('Predicted')\n",
    "\n",
    "# Add correlation coefficients to titles\n",
    "train_corr = spearmanr(train_actual, train_preds)[0]\n",
    "val_corr = spearmanr(val_actual, val_preds)[0]\n",
    "test_corr = spearmanr(test_actual, test_preds)[0]\n",
    "\n",
    "ax1.set_title(f'Training Set\\nSpearman ρ={train_corr:.3f}')\n",
    "ax2.set_title(f'Validation Set\\nSpearman ρ={val_corr:.3f}')\n",
    "ax3.set_title(f'Test Set\\nSpearman ρ={test_corr:.3f}')\n",
    "\n",
    "plt.tight_layout()\n",
    "plt.show()"
   ]
  },
  {
   "cell_type": "code",
   "execution_count": 15,
   "metadata": {},
   "outputs": [],
   "source": [
    "from egfr_binder_rd2.esm_regression_expert import EsmRegressionExpert\n",
    "import evo_prot_grad\n",
    "from tqdm import tqdm"
   ]
  },
  {
   "cell_type": "code",
   "execution_count": 30,
   "metadata": {},
   "outputs": [],
   "source": [
    "i_pae_expert = EsmRegressionExpert(\n",
    "    temperature=1.0,\n",
    "    model=model,\n",
    "    tokenizer=model.tokenizer,\n",
    "    device=\"cuda\" if torch.cuda.is_available() else \"cpu\",\n",
    ")"
   ]
  },
  {
   "cell_type": "code",
   "execution_count": 48,
   "metadata": {},
   "outputs": [],
   "source": [
    "esm_expert = evo_prot_grad.get_expert(\n",
    "    expert_name='esm',\n",
    "    scoring_strategy=\"mutant_marginal\",\n",
    "    model = EsmForMaskedLM.from_pretrained(\"facebook/esm2_t33_650M_UR50D\"),\n",
    "    tokenizer = AutoTokenizer.from_pretrained(\"facebook/esm2_t33_650M_UR50D\"),\n",
    "    device=\"cuda\" if torch.cuda.is_available() else \"cpu\",\n",
    ")"
   ]
  },
  {
   "cell_type": "code",
   "execution_count": 70,
   "metadata": {},
   "outputs": [],
   "source": [
    "experts = [esm_expert, i_pae_expert]"
   ]
  },
  {
   "cell_type": "code",
   "execution_count": 83,
   "metadata": {},
   "outputs": [],
   "source": [
    "sequence = df.iloc[0]['binder_sequence'] + 'ELR'"
   ]
  },
  {
   "cell_type": "code",
   "execution_count": 97,
   "metadata": {},
   "outputs": [],
   "source": [
    "sequence = 'AERMRRRFEHIVEIHEEWAKEVLENLKKQGSKEEDLKFMEEYLEQDVEELRKRAEEMVEEYEKSS'"
   ]
  },
  {
   "cell_type": "code",
   "execution_count": 98,
   "metadata": {},
   "outputs": [
    {
     "name": "stderr",
     "output_type": "stream",
     "text": [
      "100%|██████████| 4/4 [01:23<00:00, 20.98s/it]\n"
     ]
    }
   ],
   "source": [
    "serial_chains = 4\n",
    "n_steps = 250\n",
    "max_mutations = 5\n",
    "verbose=False\n",
    "n_parallel_chains = 4\n",
    "timestamp = datetime.now().strftime(\"%Y%m%d-%H%M%S\")\n",
    "\n",
    "results = []\n",
    "total_chains = 0\n",
    "\n",
    "for _ in tqdm(range(serial_chains)):\n",
    "    variants, scores = evo_prot_grad.DirectedEvolution(\n",
    "        wt_protein=sequence,\n",
    "        output=\"all\",\n",
    "        experts=experts,\n",
    "        parallel_chains=n_parallel_chains,\n",
    "        n_steps=n_steps,\n",
    "        max_mutations=max_mutations,\n",
    "        verbose=verbose,\n",
    "        # preserved_regions=[(103, 104), (208, 209), (212, 213)],\n",
    "    )()\n",
    "    for chain in range(scores.shape[1]):\n",
    "        for step in range(scores.shape[0]):\n",
    "            seq = \"\".join(variants[step][chain].split(\" \"))\n",
    "            score = scores[step, chain]\n",
    "            results.append(\n",
    "                {\n",
    "                    \"run\": timestamp,\n",
    "                    \"chain\": total_chains,\n",
    "                    \"step\": step,\n",
    "                    \"score\": score,\n",
    "                    \"sequence\": seq,\n",
    "                }\n",
    "            )\n",
    "        total_chains += 1"
   ]
  },
  {
   "cell_type": "code",
   "execution_count": 108,
   "metadata": {},
   "outputs": [
    {
     "data": {
      "text/plain": [
       "20.587156"
      ]
     },
     "execution_count": 108,
     "metadata": {},
     "output_type": "execute_result"
    }
   ],
   "source": [
    "score"
   ]
  },
  {
   "cell_type": "code",
   "execution_count": 109,
   "metadata": {},
   "outputs": [],
   "source": [
    "sampled = pd.DataFrame(results)\n",
    "sampled = sampled.drop_duplicates(subset=['sequence'])"
   ]
  },
  {
   "cell_type": "code",
   "execution_count": 110,
   "metadata": {},
   "outputs": [
    {
     "data": {
      "text/html": [
       "<div>\n",
       "<style scoped>\n",
       "    .dataframe tbody tr th:only-of-type {\n",
       "        vertical-align: middle;\n",
       "    }\n",
       "\n",
       "    .dataframe tbody tr th {\n",
       "        vertical-align: top;\n",
       "    }\n",
       "\n",
       "    .dataframe thead th {\n",
       "        text-align: right;\n",
       "    }\n",
       "</style>\n",
       "<table border=\"1\" class=\"dataframe\">\n",
       "  <thead>\n",
       "    <tr style=\"text-align: right;\">\n",
       "      <th></th>\n",
       "      <th>run</th>\n",
       "      <th>chain</th>\n",
       "      <th>step</th>\n",
       "      <th>score</th>\n",
       "      <th>sequence</th>\n",
       "    </tr>\n",
       "  </thead>\n",
       "  <tbody>\n",
       "    <tr>\n",
       "      <th>0</th>\n",
       "      <td>20241030-234716</td>\n",
       "      <td>0</td>\n",
       "      <td>0</td>\n",
       "      <td>2.686405</td>\n",
       "      <td>AERMRRRFEHIVEIHEEWAKEVLENLKKQGSKEEDLKFMEEFLEQD...</td>\n",
       "    </tr>\n",
       "    <tr>\n",
       "      <th>1</th>\n",
       "      <td>20241030-234716</td>\n",
       "      <td>0</td>\n",
       "      <td>1</td>\n",
       "      <td>9.457047</td>\n",
       "      <td>AETMRRRFEHIVEIHEEWAKEVLENLKKQGSKEEDLKFMEEFLEQD...</td>\n",
       "    </tr>\n",
       "    <tr>\n",
       "      <th>2</th>\n",
       "      <td>20241030-234716</td>\n",
       "      <td>0</td>\n",
       "      <td>2</td>\n",
       "      <td>13.343776</td>\n",
       "      <td>AETMRRRFEHIVEIHEEWAKEVLENLKKQGSKEEDLKFMEEFLEQD...</td>\n",
       "    </tr>\n",
       "    <tr>\n",
       "      <th>3</th>\n",
       "      <td>20241030-234716</td>\n",
       "      <td>0</td>\n",
       "      <td>3</td>\n",
       "      <td>13.343776</td>\n",
       "      <td>MEVMRRRFEHIVEIHEEWAKEVLENLKKQGSKEEDLKFMEEYLEQD...</td>\n",
       "    </tr>\n",
       "    <tr>\n",
       "      <th>4</th>\n",
       "      <td>20241030-234716</td>\n",
       "      <td>0</td>\n",
       "      <td>4</td>\n",
       "      <td>9.660851</td>\n",
       "      <td>MEVMRRRFEHIVEIHEEWAKEVLENLKKQGSKEEDLKFMEEYLEQD...</td>\n",
       "    </tr>\n",
       "    <tr>\n",
       "      <th>...</th>\n",
       "      <td>...</td>\n",
       "      <td>...</td>\n",
       "      <td>...</td>\n",
       "      <td>...</td>\n",
       "      <td>...</td>\n",
       "    </tr>\n",
       "    <tr>\n",
       "      <th>3995</th>\n",
       "      <td>20241030-234716</td>\n",
       "      <td>15</td>\n",
       "      <td>245</td>\n",
       "      <td>16.913095</td>\n",
       "      <td>MERMRRRFEHIVEIVEEWAKEVLENEKKQGSKEEDLKFMEEYLEAD...</td>\n",
       "    </tr>\n",
       "    <tr>\n",
       "      <th>3996</th>\n",
       "      <td>20241030-234716</td>\n",
       "      <td>15</td>\n",
       "      <td>246</td>\n",
       "      <td>16.913095</td>\n",
       "      <td>AERMRRRFEHIVEIREEWAKEVLENLKKQGSKEEDLKFMEEYLEHD...</td>\n",
       "    </tr>\n",
       "    <tr>\n",
       "      <th>3997</th>\n",
       "      <td>20241030-234716</td>\n",
       "      <td>15</td>\n",
       "      <td>247</td>\n",
       "      <td>13.506359</td>\n",
       "      <td>AERMRRRFEHIVEEREEWAKEVLENLKKQGSKEEDLKFMEEYLEHD...</td>\n",
       "    </tr>\n",
       "    <tr>\n",
       "      <th>3998</th>\n",
       "      <td>20241030-234716</td>\n",
       "      <td>15</td>\n",
       "      <td>248</td>\n",
       "      <td>20.587156</td>\n",
       "      <td>KERMRRRFEHIVEEREEWAKEVLENLKKQGSKEEDLKHMEEYLEHD...</td>\n",
       "    </tr>\n",
       "    <tr>\n",
       "      <th>3999</th>\n",
       "      <td>20241030-234716</td>\n",
       "      <td>15</td>\n",
       "      <td>249</td>\n",
       "      <td>20.587156</td>\n",
       "      <td>AERMRRRFEHIVERHEEWAKEVLENLKKQGSKEEDLKFMEEYLEGD...</td>\n",
       "    </tr>\n",
       "  </tbody>\n",
       "</table>\n",
       "<p>3174 rows × 5 columns</p>\n",
       "</div>"
      ],
      "text/plain": [
       "                  run  chain  step      score  \\\n",
       "0     20241030-234716      0     0   2.686405   \n",
       "1     20241030-234716      0     1   9.457047   \n",
       "2     20241030-234716      0     2  13.343776   \n",
       "3     20241030-234716      0     3  13.343776   \n",
       "4     20241030-234716      0     4   9.660851   \n",
       "...               ...    ...   ...        ...   \n",
       "3995  20241030-234716     15   245  16.913095   \n",
       "3996  20241030-234716     15   246  16.913095   \n",
       "3997  20241030-234716     15   247  13.506359   \n",
       "3998  20241030-234716     15   248  20.587156   \n",
       "3999  20241030-234716     15   249  20.587156   \n",
       "\n",
       "                                               sequence  \n",
       "0     AERMRRRFEHIVEIHEEWAKEVLENLKKQGSKEEDLKFMEEFLEQD...  \n",
       "1     AETMRRRFEHIVEIHEEWAKEVLENLKKQGSKEEDLKFMEEFLEQD...  \n",
       "2     AETMRRRFEHIVEIHEEWAKEVLENLKKQGSKEEDLKFMEEFLEQD...  \n",
       "3     MEVMRRRFEHIVEIHEEWAKEVLENLKKQGSKEEDLKFMEEYLEQD...  \n",
       "4     MEVMRRRFEHIVEIHEEWAKEVLENLKKQGSKEEDLKFMEEYLEQD...  \n",
       "...                                                 ...  \n",
       "3995  MERMRRRFEHIVEIVEEWAKEVLENEKKQGSKEEDLKFMEEYLEAD...  \n",
       "3996  AERMRRRFEHIVEIREEWAKEVLENLKKQGSKEEDLKFMEEYLEHD...  \n",
       "3997  AERMRRRFEHIVEEREEWAKEVLENLKKQGSKEEDLKFMEEYLEHD...  \n",
       "3998  KERMRRRFEHIVEEREEWAKEVLENLKKQGSKEEDLKHMEEYLEHD...  \n",
       "3999  AERMRRRFEHIVERHEEWAKEVLENLKKQGSKEEDLKFMEEYLEGD...  \n",
       "\n",
       "[3174 rows x 5 columns]"
      ]
     },
     "execution_count": 110,
     "metadata": {},
     "output_type": "execute_result"
    }
   ],
   "source": [
    "sampled"
   ]
  },
  {
   "cell_type": "code",
   "execution_count": 116,
   "metadata": {},
   "outputs": [],
   "source": [
    "sequences = sampled.sort_values('score', ascending=False).head(300).sample(64)['sequence'].to_list()"
   ]
  },
  {
   "cell_type": "code",
   "execution_count": 131,
   "metadata": {},
   "outputs": [],
   "source": [
    "import modal\n",
    "\n",
    "get_msa = modal.Function.lookup(\"simplefold\", 'get_msa_for_binder')\n",
    "a3m_from_template = modal.Function.lookup(\"simplefold\", 'a3m_from_template')\n",
    "fold_binder = modal.Function.lookup(\"simplefold\", 'fold_binder')\n",
    "update_metrics = modal.Function.lookup(\"simplefold\", 'update_metrics_for_all_folded')\n",
    "esm2_pll = modal.Function.lookup(\"esm2-inference\", 'process_sequences')\n",
    "update_pll_metrics = modal.Function.lookup(\"esm2-inference\", 'update_pll_metrics')"
   ]
  },
  {
   "cell_type": "code",
   "execution_count": null,
   "metadata": {},
   "outputs": [],
   "source": [
    "fold_binder.remote(binder_seqs=[sequence])"
   ]
  },
  {
   "cell_type": "code",
   "execution_count": 133,
   "metadata": {},
   "outputs": [
    {
     "data": {
      "text/plain": [
       "[PosixPath('/colabfold_data/msa_results/f9aee7.a3m')]"
      ]
     },
     "execution_count": 133,
     "metadata": {},
     "output_type": "execute_result"
    }
   ],
   "source": [
    "get_msa.remote(binder_seqs=[sequence], )"
   ]
  },
  {
   "cell_type": "code",
   "execution_count": 129,
   "metadata": {},
   "outputs": [],
   "source": [
    "from egfr_binder_rd2 import EGFR\n",
    "from egfr_binder_rd2.utils import hash_seq"
   ]
  },
  {
   "cell_type": "code",
   "execution_count": 135,
   "metadata": {},
   "outputs": [],
   "source": [
    "df = update_metrics.remote()"
   ]
  },
  {
   "cell_type": "code",
   "execution_count": null,
   "metadata": {},
   "outputs": [],
   "source": []
  },
  {
   "cell_type": "code",
   "execution_count": 134,
   "metadata": {},
   "outputs": [
    {
     "data": {
      "text/plain": [
       "[None,\n",
       " None,\n",
       " None,\n",
       " None,\n",
       " None,\n",
       " None,\n",
       " None,\n",
       " None,\n",
       " None,\n",
       " None,\n",
       " None,\n",
       " None,\n",
       " None,\n",
       " None,\n",
       " None,\n",
       " None,\n",
       " None,\n",
       " None,\n",
       " None,\n",
       " None,\n",
       " None,\n",
       " None,\n",
       " None,\n",
       " None,\n",
       " None,\n",
       " None,\n",
       " None,\n",
       " None,\n",
       " None,\n",
       " None,\n",
       " None,\n",
       " None,\n",
       " None,\n",
       " None,\n",
       " None,\n",
       " None,\n",
       " None,\n",
       " None,\n",
       " None,\n",
       " None,\n",
       " None,\n",
       " None,\n",
       " None,\n",
       " None,\n",
       " None,\n",
       " None,\n",
       " None,\n",
       " None,\n",
       " None,\n",
       " None,\n",
       " None,\n",
       " None,\n",
       " None,\n",
       " None,\n",
       " None,\n",
       " None,\n",
       " None,\n",
       " None,\n",
       " None,\n",
       " None,\n",
       " None,\n",
       " None,\n",
       " None,\n",
       " None]"
      ]
     },
     "execution_count": 134,
     "metadata": {},
     "output_type": "execute_result"
    }
   ],
   "source": [
    "fold_binder.remote(binder_seqs=sequences, parent_binder_seqs=sequence)"
   ]
  }
 ],
 "metadata": {
  "kernelspec": {
   "display_name": ".venv",
   "language": "python",
   "name": "python3"
  },
  "language_info": {
   "codemirror_mode": {
    "name": "ipython",
    "version": 3
   },
   "file_extension": ".py",
   "mimetype": "text/x-python",
   "name": "python",
   "nbconvert_exporter": "python",
   "pygments_lexer": "ipython3",
   "version": "3.11.10"
  }
 },
 "nbformat": 4,
 "nbformat_minor": 2
}
