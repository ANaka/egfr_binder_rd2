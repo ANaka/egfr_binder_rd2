{
 "cells": [
  {
   "cell_type": "code",
   "execution_count": 29,
   "metadata": {},
   "outputs": [
    {
     "name": "stdout",
     "output_type": "stream",
     "text": [
      "The autoreload extension is already loaded. To reload it, use:\n",
      "  %reload_ext autoreload\n"
     ]
    }
   ],
   "source": [
    "import modal\n",
    "from egfr_binder_rd2.utils import hash_seq, load_evolution_metadata\n",
    "from egfr_binder_rd2 import EGFR, EGFS, OFFICIAL_EGFR\n",
    "import pandas as pd\n",
    "from pathlib import Path\n",
    "from egfr_binder_rd2 import MODAL_VOLUME_PATH, OUTPUT_DIRS\n",
    "from egfr_binder_rd2.fold import get_a3m_path\n",
    "import seaborn as sns\n",
    "from egfr_binder_rd2.solubility import calculate_solubility\n",
    "from matplotlib import pyplot as plt\n",
    "\n",
    "%load_ext autoreload\n",
    "%autoreload 2\n",
    "\n",
    "pd.set_option('display.max_columns', None)\n",
    "\n",
    "get_msa = modal.Function.lookup(\"simplefold\", 'get_msa_for_binder')\n",
    "# a3m_from_template = modal.Function.lookup(\"simplefold\", 'a3m_from_template')\n",
    "fold_binder = modal.Function.lookup(\"simplefold\", 'fold_binder')\n",
    "update_metrics = modal.Function.lookup(\"simplefold\", 'update_metrics_for_all_folded')\n",
    "esm2_pll = modal.Function.lookup(\"esm2-inference\", 'process_sequences')\n",
    "esm2_pll_exact = modal.Function.lookup(\"esm2-inference\", 'process_sequences_exact')\n",
    "update_pll_metrics = modal.Function.lookup(\"esm2-inference\", 'update_pll_metrics')\n",
    "get_exact_plls = modal.Function.lookup(\"esm2-inference\", 'update_exact_pll_metrics')\n",
    "sample_sequences = modal.Function.lookup(\"bt-training\", 'sample_sequences')\n",
    "update_high_quality_metrics = modal.Function.lookup(\"simplefold\", 'update_high_quality_metrics')\n",
    "fold_high_quality = modal.Function.lookup(\"simplefold\", 'fold_high_quality')\n"
   ]
  },
  {
   "cell_type": "code",
   "execution_count": 31,
   "metadata": {},
   "outputs": [
    {
     "data": {
      "text/plain": [
       "'c2a9f3'"
      ]
     },
     "execution_count": 31,
     "metadata": {},
     "output_type": "execute_result"
    }
   ],
   "source": [
    "hash_seq(f'SYEGYCENGGTLQHIESLDSYTCKCLKGYTGDRCQSQDLRYLYLEGGEGGEGGEGGEGGEGGRGGEGGRGGEGGRGGEGGRGGEGGEGGRGGEGGEGGEGGEGGEGGRGGEGGRGGEGGRGGEGGRGGEGGEGGRGGEGREGGEGGEGGEGGRGGEGGRGGEGGRGGEGGRGGEGGEGGRSYEGYCENGGTLQHIESLDSYTCKCLKGYTGDRCQSQDLRYLYLE')"
   ]
  },
  {
   "cell_type": "code",
   "execution_count": null,
   "metadata": {},
   "outputs": [],
   "source": []
  },
  {
   "cell_type": "code",
   "execution_count": 4,
   "metadata": {},
   "outputs": [
    {
     "name": "stdout",
     "output_type": "stream",
     "text": [
      "[PosixPath('/colabfold_data/msa_results/861628.a3m')]\n"
     ]
    },
    {
     "ename": "TypeError",
     "evalue": "unsupported operand type(s) for /: 'PosixPath' and 'list'",
     "output_type": "error",
     "traceback": [
      "\u001b[0;31m---------------------------------------------------------------------------\u001b[0m",
      "\u001b[0;31mTypeError\u001b[0m                                 Traceback (most recent call last)",
      "Cell \u001b[0;32mIn[4], line 7\u001b[0m\n\u001b[1;32m      4\u001b[0m result \u001b[38;5;241m=\u001b[39m get_msa\u001b[38;5;241m.\u001b[39mremote(seqs)\n\u001b[1;32m      5\u001b[0m \u001b[38;5;28mprint\u001b[39m(result)\n\u001b[0;32m----> 7\u001b[0m result \u001b[38;5;241m=\u001b[39m \u001b[43mfold_high_quality\u001b[49m\u001b[38;5;241;43m.\u001b[39;49m\u001b[43mremote\u001b[49m\u001b[43m(\u001b[49m\u001b[43mresult\u001b[49m\u001b[43m)\u001b[49m\n\u001b[1;32m      8\u001b[0m \u001b[38;5;28mprint\u001b[39m(result)\n",
      "File \u001b[0;32m~/code/egfr_binder_rd2/.venv/lib/python3.11/site-packages/synchronicity/synchronizer.py:577\u001b[0m, in \u001b[0;36mSynchronizer._wrap_proxy_method.<locals>.proxy_method\u001b[0;34m(self, *args, **kwargs)\u001b[0m\n\u001b[1;32m    575\u001b[0m instance \u001b[38;5;241m=\u001b[39m \u001b[38;5;28mself\u001b[39m\u001b[38;5;241m.\u001b[39m\u001b[38;5;18m__dict__\u001b[39m[synchronizer_self\u001b[38;5;241m.\u001b[39m_original_attr]\n\u001b[1;32m    576\u001b[0m \u001b[38;5;28;01mtry\u001b[39;00m:\n\u001b[0;32m--> 577\u001b[0m     \u001b[38;5;28;01mreturn\u001b[39;00m \u001b[43mwrapped_method\u001b[49m\u001b[43m(\u001b[49m\u001b[43minstance\u001b[49m\u001b[43m,\u001b[49m\u001b[43m \u001b[49m\u001b[38;5;241;43m*\u001b[39;49m\u001b[43margs\u001b[49m\u001b[43m,\u001b[49m\u001b[43m \u001b[49m\u001b[38;5;241;43m*\u001b[39;49m\u001b[38;5;241;43m*\u001b[39;49m\u001b[43mkwargs\u001b[49m\u001b[43m)\u001b[49m\n\u001b[1;32m    578\u001b[0m \u001b[38;5;28;01mexcept\u001b[39;00m UserCodeException \u001b[38;5;28;01mas\u001b[39;00m uc_exc:\n\u001b[1;32m    579\u001b[0m     uc_exc\u001b[38;5;241m.\u001b[39mexc\u001b[38;5;241m.\u001b[39m__suppress_context__ \u001b[38;5;241m=\u001b[39m \u001b[38;5;28;01mTrue\u001b[39;00m\n",
      "File \u001b[0;32m~/code/egfr_binder_rd2/.venv/lib/python3.11/site-packages/synchronicity/combined_types.py:29\u001b[0m, in \u001b[0;36mFunctionWithAio.__call__\u001b[0;34m(self, *args, **kwargs)\u001b[0m\n\u001b[1;32m     27\u001b[0m \u001b[38;5;28;01mexcept\u001b[39;00m UserCodeException \u001b[38;5;28;01mas\u001b[39;00m uc_exc:\n\u001b[1;32m     28\u001b[0m     uc_exc\u001b[38;5;241m.\u001b[39mexc\u001b[38;5;241m.\u001b[39m__suppress_context__ \u001b[38;5;241m=\u001b[39m \u001b[38;5;28;01mTrue\u001b[39;00m\n\u001b[0;32m---> 29\u001b[0m     \u001b[38;5;28;01mraise\u001b[39;00m uc_exc\u001b[38;5;241m.\u001b[39mexc\n",
      "File \u001b[0;32m<ta-01JBX2HRDYTAZMAZ8HE2BE38VR>:/root/fold.py:830\u001b[0m, in \u001b[0;36mfold_high_quality\u001b[0;34m()\u001b[0m\n",
      "\u001b[0;31mTypeError\u001b[0m: unsupported operand type(s) for /: 'PosixPath' and 'list'"
     ]
    }
   ],
   "source": [
    "\n",
    "seqs = [\n",
    "    'RLFSKCPRRYEGICKNNGTCKYAINLRTYTCRCLSGYTGDRCEELDIRYLLLLY',\n",
    "]\n",
    "result = get_msa.remote(seqs)\n",
    "print(result)\n",
    "\n",
    "result = fold_high_quality.remote(result)\n",
    "print(result)"
   ]
  },
  {
   "cell_type": "code",
   "execution_count": null,
   "metadata": {},
   "outputs": [],
   "source": []
  },
  {
   "cell_type": "code",
   "execution_count": 27,
   "metadata": {},
   "outputs": [],
   "source": [
    "seqs = [\n",
    "    # 'RLFSKCPRRYEGICKNNGTCKYAINLRTYTCRCLSGYTGDRCEELDIRYLLLLY',\n",
    "    # 'SYEGYCENGGTCVHVEALDSYTCKCLKGYTGDRCQSQDLRYLLLE',\n",
    "    # 'NLFSRCPKRYAGICENNGKCRYAINLRTYTCICKSGYTGDRCQELDIRYLLLLN',\n",
    "    # 'SYEGYCLNGGECRHVKSLDTYTCKCEAGYTGDRCQTRDLRYLELL',\n",
    "    # 'EGHKECPRRYRGICENNGSCRYASNLDTYTCQCLEGYTGARCQELDIRY',\n",
    "    # 'CPARYNGICTNEGRCQYARNLETYTCQCLTGYTDHRCEELDIRY',\n",
    "    # 'CPARYNGICLNEGRCQYVRNLETYTCKCLTGYTDHRCEELDIRY',\n",
    "    #  'NLFSKCPRRYRGICKNNGKCKYAINLRTYTCICVSGYTGERCQELDIRYLLLRY',\n",
    "    #  'SRFSNCPRRYRGICTNSGECTYAKNLRTYTCQCVSGYTGHRCEELDIRYL',\n",
    "    # 'SRFSNCPRRYRGICTNNGECTYAKNLRTYTCQCVSGYTGARCQELDIRYL',\n",
    "    # 'SRFSNCPRRYRGICANNGECTYAKNLRTYTCQCVSGYTGARCQELDIRYL',\n",
    "    # 'SRFSNCPRRYRGICANNGECTYAKNLRTYTCQCVSGYTGDRCQELDIRYL',\n",
    "    # 'SYEGYCLNGGTLVHVESLDSYTCGCLKGYTGDRCQSQDLRYLYLE',\n",
    "    # 'SYEGYCENGGTLQHIESLDSYTCKCLKGYTGDRCQSQDLRYLYLE',\n",
    "    # 'YSFTQCPSSYDGICMNGGVCRHVLSLDSYTCRCKEGYIGDRCETLDLRYLELR',\n",
    "    # 'SYEGYCENGGTLQHIESLDSYTCKCLKGYTGDRCQSQDLRYLYLE',\n",
    "    # 'CPARYNGICTNHGRCQYARNLRTYTCQCLPGYTKHRCQELDIRY',\n",
    "    # 'SYNGYCLNNGRCQHIMSLDSYTCRCEVGYSGDRCQTHDLRWLELR',\n",
    "    # 'HYDGYCLNGGACRRIESLHSYTCQCQKGYSGDRCQTRDLRWLELQN'\n",
    "    # 'RYDGYCLDGGVCKHIESLDKYTCECVIGYTGDRCQTRDLRWLELR',\n",
    "    # 'EYDGYCLNGGVCMHIESLDKYTCECVIGYTGDRCQTRDLRWLELR',\n",
    "    # 'PYDGYCLNGGVCMHIESLDKYTCICVIGYTGDRCQTRDLRWLELR',\n",
    "    # 'PYDGYCLNGGRCTAIESLDKYTCVCRAGYTGERCQTRDLRWLELR',\n",
    "    # 'PYDGYCLNGGECMHIFSLDKYTCICVGGYTGDRCQTRDLRWLELR',\n",
    "    # 'SYDGKCLNDGACRYIESLDSYTCHCVSGYTGDRCQTRDLRWLELR',\n",
    "    # 'SNCPRRYRGICENNGSCKYRENLRTYTCQCRSGYTGARCQELDIRYLL',\n",
    "    # 'SYEGYCENGGTLVHVESLDSYTCGCLKGYTGDRCQSQDLRYLYLE',\n",
    "    # 'TYDGYCLNGGKCEHVESLDKYTCNCVSGYTGDRCQERDLRWLEHR',\n",
    "    # 'SNCPRRYRGICENNGSCKYATNLRTYTCQCLSGYTGARCQELDIRYLL'\n",
    "    # 'NLFSRCPKRYHGICENNGQCRYAINLRTYCCECKSGYTGDRCQELDIRYLLLLN',\n",
    "    # 'NLFSRCPKRYHGICENNGQCRYAHNLRTYTCVCDSGYTGDRCQELDIRYLLLLN',\n",
    "    # 'NLFKRCPKRYHGICENNGQCRYAINLRTYCCICHSGYTGDRCQELDIRYLLLLN',\n",
    "    # 'YLFEKCPYKFKGICNNNGVCRYAINLRKYTCICLEGYTGDRCQEIDIRYLLLQL',\n",
    "    # 'NKFSACPRRYRGICTNGGHCQYAHNLRTYTCQCRSGLTGYRCQELDIRYLLL',\n",
    "    # 'YNFSRCPKRYHGICGNNGQCRYAINLRTYTCRCVSGYTGDRCCELDIRYLLLLN',\n",
    "    'NLFSRCPKRYHGICENNGQCRYAHNLRTYTCVCDSGYTGDRCQELDIRYLLLLN',\n",
    "    'YLFEKCPYKFKGICNNNGVCRYAINLRKYTCICLEGYTGDRCQEIDIRYLLLQL',\n",
    "    'NLFKRCPKRYHGICENNGQCRYAINLRTYCCICHSGYTGDRCQELDIRYLLLLN',\n",
    "    'SYDGKCLNNGACRYIERLDSYTCHCVSGYTGDRCQTRDLRWLELR',\n",
    "    'KYDGYCNNNGVCHHIESLDKYTCNCRVGYSGDRCQTRDLRWLELRY',\n",
    "    'SYDGYCNNHGVCRHIESLDSWTCQCRQGYEGDRCQTRDLRWLELN',\n",
    "    'SRFSNCPRRYRGICTNNGECTYAKNLRTYTCQCVSGYTGHRCQELDIRYL',\n",
    "]"
   ]
  },
  {
   "cell_type": "code",
   "execution_count": 28,
   "metadata": {},
   "outputs": [
    {
     "name": "stdout",
     "output_type": "stream",
     "text": [
      "source .venv/bin/activate\n",
      "cd src/egfr_binder_rd2/\n",
      "modal run fold.py::fhq --s NLFSRCPKRYHGICENNGQCRYAHNLRTYTCVCDSGYTGDRCQELDIRYLLLLN\n",
      "\n",
      "source .venv/bin/activate\n",
      "cd src/egfr_binder_rd2/\n",
      "modal run fold.py::fhq --s YLFEKCPYKFKGICNNNGVCRYAINLRKYTCICLEGYTGDRCQEIDIRYLLLQL\n",
      "\n",
      "source .venv/bin/activate\n",
      "cd src/egfr_binder_rd2/\n",
      "modal run fold.py::fhq --s NLFKRCPKRYHGICENNGQCRYAINLRTYCCICHSGYTGDRCQELDIRYLLLLN\n",
      "\n",
      "source .venv/bin/activate\n",
      "cd src/egfr_binder_rd2/\n",
      "modal run fold.py::fhq --s SYDGKCLNNGACRYIERLDSYTCHCVSGYTGDRCQTRDLRWLELR\n",
      "\n",
      "source .venv/bin/activate\n",
      "cd src/egfr_binder_rd2/\n",
      "modal run fold.py::fhq --s KYDGYCNNNGVCHHIESLDKYTCNCRVGYSGDRCQTRDLRWLELRY\n",
      "\n",
      "source .venv/bin/activate\n",
      "cd src/egfr_binder_rd2/\n",
      "modal run fold.py::fhq --s SYDGYCNNHGVCRHIESLDSWTCQCRQGYEGDRCQTRDLRWLELN\n",
      "\n",
      "source .venv/bin/activate\n",
      "cd src/egfr_binder_rd2/\n",
      "modal run fold.py::fhq --s SRFSNCPRRYRGICTNNGECTYAKNLRTYTCQCVSGYTGHRCQELDIRYL\n",
      "\n"
     ]
    }
   ],
   "source": [
    "template = \"\"\"source .venv/bin/activate\n",
    "cd src/egfr_binder_rd2/\n",
    "modal run fold.py::fhq --s {seq}\n",
    "\"\"\"\n",
    "\n",
    "for seq in seqs:\n",
    "    print(template.format(seq=seq))\n"
   ]
  },
  {
   "cell_type": "code",
   "execution_count": null,
   "metadata": {},
   "outputs": [],
   "source": []
  }
 ],
 "metadata": {
  "kernelspec": {
   "display_name": ".venv",
   "language": "python",
   "name": "python3"
  },
  "language_info": {
   "codemirror_mode": {
    "name": "ipython",
    "version": 3
   },
   "file_extension": ".py",
   "mimetype": "text/x-python",
   "name": "python",
   "nbconvert_exporter": "python",
   "pygments_lexer": "ipython3",
   "version": "3.11.10"
  }
 },
 "nbformat": 4,
 "nbformat_minor": 2
}
