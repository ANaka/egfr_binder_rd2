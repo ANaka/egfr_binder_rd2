{
 "cells": [
  {
   "cell_type": "code",
   "execution_count": 1,
   "metadata": {},
   "outputs": [],
   "source": [
    "import modal\n",
    "from egfr_binder_rd2.utils import hash_seq\n",
    "from egfr_binder_rd2 import EGFR, EGFS\n",
    "import pandas as pd\n"
   ]
  },
  {
   "cell_type": "code",
   "execution_count": 9,
   "metadata": {},
   "outputs": [],
   "source": [
    "\n",
    "\n",
    "get_msa = modal.Function.lookup(\"simplefold\", 'get_msa_for_binder')\n",
    "a3m_from_template = modal.Function.lookup(\"simplefold\", 'a3m_from_template')\n",
    "fold_binder = modal.Function.lookup(\"simplefold\", 'fold_binder')\n",
    "update_metrics = modal.Function.lookup(\"simplefold\", 'update_metrics_for_all_folded')\n",
    "esm2_pll = modal.Function.lookup(\"esm2-inference\", 'process_sequences')\n",
    "update_pll_metrics = modal.Function.lookup(\"esm2-inference\", 'update_pll_metrics')"
   ]
  },
  {
   "cell_type": "markdown",
   "metadata": {},
   "source": [
    "# get fasta to run bindcraft stuff"
   ]
  },
  {
   "cell_type": "code",
   "execution_count": 11,
   "metadata": {},
   "outputs": [],
   "source": [
    "df = pd.read_csv('/home/naka/code/BindCraft/outputs/EGFR_single_domain/final_design_stats.csv')"
   ]
  },
  {
   "cell_type": "code",
   "execution_count": 12,
   "metadata": {},
   "outputs": [],
   "source": [
    "df = df.sort_values('Average_i_pTM', ascending=False)"
   ]
  },
  {
   "cell_type": "code",
   "execution_count": 13,
   "metadata": {},
   "outputs": [],
   "source": [
    "binder_seqs = {}\n",
    "for i, row in df.iterrows():\n",
    "    binder_seq = row['Sequence']\n",
    "    complex = f'{binder_seq}:{EGFR}'\n",
    "    binder_seqs[hash_seq(complex)] = complex\n"
   ]
  },
  {
   "cell_type": "code",
   "execution_count": 15,
   "metadata": {},
   "outputs": [],
   "source": [
    "# Save sequences to FASTA\n",
    "with open('bindcraft_seqs.fasta', 'w') as f:\n",
    "    for seq_hash, complex_seq in binder_seqs.items():\n",
    "        f.write(f'>{seq_hash}\\n{complex_seq}\\n')\n"
   ]
  },
  {
   "cell_type": "markdown",
   "metadata": {},
   "source": [
    "# run pll on last rounds stuff"
   ]
  },
  {
   "cell_type": "code",
   "execution_count": 5,
   "metadata": {},
   "outputs": [],
   "source": [
    "df = pd.read_csv('/home/naka/code/egfr_binder_rd2/data/fold_df.csv', index_col=0)"
   ]
  },
  {
   "cell_type": "code",
   "execution_count": 11,
   "metadata": {},
   "outputs": [],
   "source": [
    "binder_seqs = df['binder_sequence'].to_list()"
   ]
  },
  {
   "cell_type": "code",
   "execution_count": 12,
   "metadata": {},
   "outputs": [],
   "source": [
    "result = esm2_pll.remote(binder_seqs)"
   ]
  },
  {
   "cell_type": "code",
   "execution_count": 13,
   "metadata": {},
   "outputs": [],
   "source": [
    "metrics = update_pll_metrics.remote()"
   ]
  },
  {
   "cell_type": "markdown",
   "metadata": {},
   "source": [
    "# other"
   ]
  },
  {
   "cell_type": "code",
   "execution_count": 14,
   "metadata": {},
   "outputs": [],
   "source": [
    "binder_seqs = [\n",
    "    'WVQLQESGGGLVQPGGSLRLSCAASGRTFSSYAMGWFRQAPGKQREFVAAIRWSGGYTYYTDSVKGRFTISRDNAKTTVYLQMNSLKPEDTAVYYCAATYLSSDYSRYALPQRPLDYDYWGQGTQVTVSSLE:LEEKKVCQGTSNKLTQLGTFEDHFLSLQRMFNNCEVVLGNLEITYVQRNYDLSFLKTIQEVAGYVLIALNTVERIPLENLQIIRGNMYYENSYALAVLSNYDANKTGLKELPMRNLQEILHGAVRFSNNPALCNVESIQWRDIVSSDFLSNMSMDFQNHLGSCQKCDPSCPNGSCWGAGEENCQKLTKIICAQQCSGRCRGKSPSDCCHNQCAAGCTGPRESDCLVCRKFRDEATCKDTCPPLMLYNPTTYQMDVNPEGKYSFGATCVKKCPRNYVVTDHGSCVRACGADSYEMEEDGVRKCKKCEGPCRKVCNGIGIGEFKDSLSINATNIKHFKNCTSISGDLHILPVAFRGDSFTHTPPLDPQELDILKTVKEITGFLLIQAWPENRTDLHAFENLEIIRGRTKQHGQFSLAVVSLNITSLGLRSLKEISDGDVIISGNKNLCYANTINWKKLFGTSGQKTKIISNRGENSCKATGQVCHALCSPEGCWGPEPRDCVSCRNVSRGRECVDKCKLLEGEPREFVENSECIQCHPECLPQAMNITCTGRGPDNCIQCAHYIDGPHCVKTCPAGVMGENNTLVWKYADAGHVCHLCHPNCTYGCTGPGLRGCPTNGHHHHHH',\n",
    "    'QVQLQESGGGLVQPGGSLRLSCAASGRTFSSHAMGWFRQAPGKQREFVAAIRWSGGYTYYTDSVKGRFTISRDNAKTTVYLQMNSLKPEDTAVYYCAATYLSSDYSRYALPQRPLDYDYWGQGTQVTVSSLE:LEEKKVCQGTSNKLTQLGTFEDHFLSLQRMFNNCEVVLGNLEITYVQRNYDLSFLKTIQEVAGYVLIALNTVERIPLENLQIIRGNMYYENSYALAVLSNYDANKTGLKELPMRNLQEILHGAVRFSNNPALCNVESIQWRDIVSSDFLSNMSMDFQNHLGSCQKCDPSCPNGSCWGAGEENCQKLTKIICAQQCSGRCRGKSPSDCCHNQCAAGCTGPRESDCLVCRKFRDEATCKDTCPPLMLYNPTTYQMDVNPEGKYSFGATCVKKCPRNYVVTDHGSCVRACGADSYEMEEDGVRKCKKCEGPCRKVCNGIGIGEFKDSLSINATNIKHFKNCTSISGDLHILPVAFRGDSFTHTPPLDPQELDILKTVKEITGFLLIQAWPENRTDLHAFENLEIIRGRTKQHGQFSLAVVSLNITSLGLRSLKEISDGDVIISGNKNLCYANTINWKKLFGTSGQKTKIISNRGENSCKATGQVCHALCSPEGCWGPEPRDCVSCRNVSRGRECVDKCKLLEGEPREFVENSECIQCHPECLPQAMNITCTGRGPDNCIQCAHYIDGPHCVKTCPAGVMGENNTLVWKYADAGHVCHLCHPNCTYGCTGPGLRGCPTNGHHHHHH',\n",
    "    'SVDEECPASYEGFCQNDGTCLYLEKLDRYACRCREGYIGERCEFRDLDYWLEQ',\n",
    "    'DSECPLSHDGYCLHDGVCMYIEALDKYACNCVVGYIGERCQYRDLKWWENLEERLKEHRAKRLALLGPGPPGVVEKEKYKVSITEKVNPGGPATMPMTLTDSNGNKTTLTITVTPEGLEAIRKRRAGEKVKYTMTSTDTGDKFVLVDLDGYCLHDGVCMYIEALDKYACNCVVGYIGERCQYRDLK',\n",
    "    'DSECPLSHDGYCLHDGVCMYIEALDKYACNCVVGYIGERCQYRDLKWWENLEERLKEHRAKRLALL',\n",
    "    'NSDSECPLSHDGYCLHDGVCMYIEALDKYACNCVVGYIGERCQYRDLKWWELR',\n",
    "]\n",
    "\n",
    "result = get_msa.remote(binder_seqs)\n"
   ]
  },
  {
   "cell_type": "code",
   "execution_count": null,
   "metadata": {},
   "outputs": [],
   "source": []
  },
  {
   "cell_type": "code",
   "execution_count": 13,
   "metadata": {},
   "outputs": [],
   "source": [
    "parent_binder_seq = 'SKEEEYYEEHQKLAKPVEELWEKLDELEKTGKLTGEHRPLVTEFRRLWSDAMVLIAMYMWYLEEVDKNPSEENRKKAQEYLEKVEEKKKEMEELLKKL'"
   ]
  },
  {
   "cell_type": "code",
   "execution_count": null,
   "metadata": {},
   "outputs": [],
   "source": [
    "result = get_msa.remote(parent_binder_seq)"
   ]
  },
  {
   "cell_type": "code",
   "execution_count": null,
   "metadata": {},
   "outputs": [],
   "source": []
  },
  {
   "cell_type": "code",
   "execution_count": 14,
   "metadata": {},
   "outputs": [
    {
     "ename": "NameError",
     "evalue": "name 'parent_binder_seq' is not defined",
     "output_type": "error",
     "traceback": [
      "\u001b[0;31m---------------------------------------------------------------------------\u001b[0m",
      "\u001b[0;31mNameError\u001b[0m                                 Traceback (most recent call last)",
      "Cell \u001b[0;32mIn[14], line 1\u001b[0m\n\u001b[0;32m----> 1\u001b[0m result \u001b[38;5;241m=\u001b[39m fold_binder\u001b[38;5;241m.\u001b[39mremote(binder_seqs\u001b[38;5;241m=\u001b[39m[\u001b[43mparent_binder_seq\u001b[49m])\n",
      "\u001b[0;31mNameError\u001b[0m: name 'parent_binder_seq' is not defined"
     ]
    }
   ],
   "source": [
    "result = fold_binder.remote(binder_seqs=[parent_binder_seq])"
   ]
  },
  {
   "cell_type": "code",
   "execution_count": 7,
   "metadata": {},
   "outputs": [],
   "source": [
    "a3m_path = a3m_from_template.remote(binder_seq='SALDEWLASLDPQVGQDIRDYIEERQAE', parent_binder_seq=parent_binder_seq)"
   ]
  },
  {
   "cell_type": "code",
   "execution_count": 21,
   "metadata": {},
   "outputs": [
    {
     "data": {
      "text/plain": [
       "PosixPath('/colabfold_data/msa_results/83f160.a3m')"
      ]
     },
     "execution_count": 21,
     "metadata": {},
     "output_type": "execute_result"
    }
   ],
   "source": [
    "result"
   ]
  },
  {
   "cell_type": "code",
   "execution_count": 9,
   "metadata": {},
   "outputs": [],
   "source": [
    "\n",
    "result = fold_binder.remote(binder_seq='SALDEWLASLDPQVGQDIRDYIEERQAE', parent_binder_seq=parent_binder_seq)"
   ]
  },
  {
   "cell_type": "code",
   "execution_count": 10,
   "metadata": {},
   "outputs": [],
   "source": [
    "df = update_metrics.remote()"
   ]
  },
  {
   "cell_type": "code",
   "execution_count": 3,
   "metadata": {},
   "outputs": [
    {
     "data": {
      "text/html": [
       "<div>\n",
       "<style scoped>\n",
       "    .dataframe tbody tr th:only-of-type {\n",
       "        vertical-align: middle;\n",
       "    }\n",
       "\n",
       "    .dataframe tbody tr th {\n",
       "        vertical-align: top;\n",
       "    }\n",
       "\n",
       "    .dataframe thead th {\n",
       "        text-align: right;\n",
       "    }\n",
       "</style>\n",
       "<table border=\"1\" class=\"dataframe\">\n",
       "  <thead>\n",
       "    <tr style=\"text-align: right;\">\n",
       "      <th></th>\n",
       "      <th>seq_hash</th>\n",
       "      <th>binder_sequence</th>\n",
       "      <th>binder_length</th>\n",
       "      <th>target_sequence</th>\n",
       "      <th>target_length</th>\n",
       "      <th>model_number</th>\n",
       "      <th>binder_plddt</th>\n",
       "      <th>binder_pae</th>\n",
       "      <th>pae_interaction</th>\n",
       "      <th>ptm</th>\n",
       "      <th>i_ptm</th>\n",
       "      <th>binder_charged_fraction</th>\n",
       "      <th>binder_hydrophobic_fraction</th>\n",
       "      <th>parent_hash</th>\n",
       "      <th>parent_sequence</th>\n",
       "      <th>mutations</th>\n",
       "    </tr>\n",
       "  </thead>\n",
       "  <tbody>\n",
       "    <tr>\n",
       "      <th>0</th>\n",
       "      <td>5b353a</td>\n",
       "      <td>NSYPGCPSSYDGYCLNGGVCMHIESLDSYTCNCVIGYSGDRCQTRD...</td>\n",
       "      <td>53</td>\n",
       "      <td>LEEKKVCQGTSNKLTQLGTFEDHFLSLQRMFNNCEVVLGNLEITYV...</td>\n",
       "      <td>622</td>\n",
       "      <td>1</td>\n",
       "      <td>85.922264</td>\n",
       "      <td>5.186330</td>\n",
       "      <td>8.895448</td>\n",
       "      <td>0.86</td>\n",
       "      <td>0.92</td>\n",
       "      <td>0.207547</td>\n",
       "      <td>0.301887</td>\n",
       "      <td>None</td>\n",
       "      <td>None</td>\n",
       "      <td>None</td>\n",
       "    </tr>\n",
       "    <tr>\n",
       "      <th>1</th>\n",
       "      <td>5b353a</td>\n",
       "      <td>NSYPGCPSSYDGYCLNGGVCMHIESLDSYTCNCVIGYSGDRCQTRD...</td>\n",
       "      <td>53</td>\n",
       "      <td>LEEKKVCQGTSNKLTQLGTFEDHFLSLQRMFNNCEVVLGNLEITYV...</td>\n",
       "      <td>622</td>\n",
       "      <td>2</td>\n",
       "      <td>84.365472</td>\n",
       "      <td>5.574172</td>\n",
       "      <td>9.162459</td>\n",
       "      <td>0.86</td>\n",
       "      <td>0.91</td>\n",
       "      <td>0.207547</td>\n",
       "      <td>0.301887</td>\n",
       "      <td>None</td>\n",
       "      <td>None</td>\n",
       "      <td>None</td>\n",
       "    </tr>\n",
       "    <tr>\n",
       "      <th>2</th>\n",
       "      <td>5b353a</td>\n",
       "      <td>NSYPGCPSSYDGYCLNGGVCMHIESLDSYTCNCVIGYSGDRCQTRD...</td>\n",
       "      <td>53</td>\n",
       "      <td>LEEKKVCQGTSNKLTQLGTFEDHFLSLQRMFNNCEVVLGNLEITYV...</td>\n",
       "      <td>622</td>\n",
       "      <td>3</td>\n",
       "      <td>85.697547</td>\n",
       "      <td>5.311627</td>\n",
       "      <td>9.028248</td>\n",
       "      <td>0.85</td>\n",
       "      <td>0.91</td>\n",
       "      <td>0.207547</td>\n",
       "      <td>0.301887</td>\n",
       "      <td>None</td>\n",
       "      <td>None</td>\n",
       "      <td>None</td>\n",
       "    </tr>\n",
       "    <tr>\n",
       "      <th>3</th>\n",
       "      <td>5b353a</td>\n",
       "      <td>NSYPGCPSSYDGYCLNGGVCMHIESLDSYTCNCVIGYSGDRCQTRD...</td>\n",
       "      <td>53</td>\n",
       "      <td>LEEKKVCQGTSNKLTQLGTFEDHFLSLQRMFNNCEVVLGNLEITYV...</td>\n",
       "      <td>622</td>\n",
       "      <td>4</td>\n",
       "      <td>84.229811</td>\n",
       "      <td>5.659277</td>\n",
       "      <td>9.556460</td>\n",
       "      <td>0.85</td>\n",
       "      <td>0.90</td>\n",
       "      <td>0.207547</td>\n",
       "      <td>0.301887</td>\n",
       "      <td>None</td>\n",
       "      <td>None</td>\n",
       "      <td>None</td>\n",
       "    </tr>\n",
       "    <tr>\n",
       "      <th>4</th>\n",
       "      <td>5b353a</td>\n",
       "      <td>NSYPGCPSSYDGYCLNGGVCMHIESLDSYTCNCVIGYSGDRCQTRD...</td>\n",
       "      <td>53</td>\n",
       "      <td>LEEKKVCQGTSNKLTQLGTFEDHFLSLQRMFNNCEVVLGNLEITYV...</td>\n",
       "      <td>622</td>\n",
       "      <td>5</td>\n",
       "      <td>82.960566</td>\n",
       "      <td>5.779459</td>\n",
       "      <td>9.915783</td>\n",
       "      <td>0.83</td>\n",
       "      <td>0.90</td>\n",
       "      <td>0.207547</td>\n",
       "      <td>0.301887</td>\n",
       "      <td>None</td>\n",
       "      <td>None</td>\n",
       "      <td>None</td>\n",
       "    </tr>\n",
       "    <tr>\n",
       "      <th>5</th>\n",
       "      <td>eec3a5</td>\n",
       "      <td>SALDEWLASLDPQVGQDIRDYIEERQAE</td>\n",
       "      <td>28</td>\n",
       "      <td>LEEKKVCQGTSNKLTQLGTFEDHFLSLQRMFNNCEVVLGNLEITYV...</td>\n",
       "      <td>622</td>\n",
       "      <td>1</td>\n",
       "      <td>33.138571</td>\n",
       "      <td>6.073788</td>\n",
       "      <td>22.274732</td>\n",
       "      <td>0.63</td>\n",
       "      <td>0.38</td>\n",
       "      <td>0.357143</td>\n",
       "      <td>0.285714</td>\n",
       "      <td>035530</td>\n",
       "      <td>SSLDEWLASLDPQVGQDIRDYIEERQAE</td>\n",
       "      <td>S2A</td>\n",
       "    </tr>\n",
       "    <tr>\n",
       "      <th>6</th>\n",
       "      <td>5c59d8</td>\n",
       "      <td>ASLDEWLASLDPQVGQDIRDYIEERQAE</td>\n",
       "      <td>28</td>\n",
       "      <td>LEEKKVCQGTSNKLTQLGTFEDHFLSLQRMFNNCEVVLGNLEITYV...</td>\n",
       "      <td>622</td>\n",
       "      <td>1</td>\n",
       "      <td>32.548214</td>\n",
       "      <td>6.130702</td>\n",
       "      <td>22.365877</td>\n",
       "      <td>0.62</td>\n",
       "      <td>0.38</td>\n",
       "      <td>0.357143</td>\n",
       "      <td>0.285714</td>\n",
       "      <td>035530</td>\n",
       "      <td>SSLDEWLASLDPQVGQDIRDYIEERQAE</td>\n",
       "      <td>S1A</td>\n",
       "    </tr>\n",
       "    <tr>\n",
       "      <th>7</th>\n",
       "      <td>83f160</td>\n",
       "      <td>SKEEEYYEEHQKLAKPVEELWEKLDELEKTGKLTGEHRPLVTEFRR...</td>\n",
       "      <td>98</td>\n",
       "      <td>LEEKKVCQGTSNKLTQLGTFEDHFLSLQRMFNNCEVVLGNLEITYV...</td>\n",
       "      <td>622</td>\n",
       "      <td>1</td>\n",
       "      <td>87.602449</td>\n",
       "      <td>2.957045</td>\n",
       "      <td>15.524411</td>\n",
       "      <td>0.62</td>\n",
       "      <td>0.91</td>\n",
       "      <td>0.479592</td>\n",
       "      <td>0.326531</td>\n",
       "      <td>None</td>\n",
       "      <td>None</td>\n",
       "      <td>None</td>\n",
       "    </tr>\n",
       "  </tbody>\n",
       "</table>\n",
       "</div>"
      ],
      "text/plain": [
       "  seq_hash                                    binder_sequence  binder_length  \\\n",
       "0   5b353a  NSYPGCPSSYDGYCLNGGVCMHIESLDSYTCNCVIGYSGDRCQTRD...             53   \n",
       "1   5b353a  NSYPGCPSSYDGYCLNGGVCMHIESLDSYTCNCVIGYSGDRCQTRD...             53   \n",
       "2   5b353a  NSYPGCPSSYDGYCLNGGVCMHIESLDSYTCNCVIGYSGDRCQTRD...             53   \n",
       "3   5b353a  NSYPGCPSSYDGYCLNGGVCMHIESLDSYTCNCVIGYSGDRCQTRD...             53   \n",
       "4   5b353a  NSYPGCPSSYDGYCLNGGVCMHIESLDSYTCNCVIGYSGDRCQTRD...             53   \n",
       "5   eec3a5                       SALDEWLASLDPQVGQDIRDYIEERQAE             28   \n",
       "6   5c59d8                       ASLDEWLASLDPQVGQDIRDYIEERQAE             28   \n",
       "7   83f160  SKEEEYYEEHQKLAKPVEELWEKLDELEKTGKLTGEHRPLVTEFRR...             98   \n",
       "\n",
       "                                     target_sequence  target_length  \\\n",
       "0  LEEKKVCQGTSNKLTQLGTFEDHFLSLQRMFNNCEVVLGNLEITYV...            622   \n",
       "1  LEEKKVCQGTSNKLTQLGTFEDHFLSLQRMFNNCEVVLGNLEITYV...            622   \n",
       "2  LEEKKVCQGTSNKLTQLGTFEDHFLSLQRMFNNCEVVLGNLEITYV...            622   \n",
       "3  LEEKKVCQGTSNKLTQLGTFEDHFLSLQRMFNNCEVVLGNLEITYV...            622   \n",
       "4  LEEKKVCQGTSNKLTQLGTFEDHFLSLQRMFNNCEVVLGNLEITYV...            622   \n",
       "5  LEEKKVCQGTSNKLTQLGTFEDHFLSLQRMFNNCEVVLGNLEITYV...            622   \n",
       "6  LEEKKVCQGTSNKLTQLGTFEDHFLSLQRMFNNCEVVLGNLEITYV...            622   \n",
       "7  LEEKKVCQGTSNKLTQLGTFEDHFLSLQRMFNNCEVVLGNLEITYV...            622   \n",
       "\n",
       "   model_number  binder_plddt  binder_pae  pae_interaction   ptm  i_ptm  \\\n",
       "0             1     85.922264    5.186330         8.895448  0.86   0.92   \n",
       "1             2     84.365472    5.574172         9.162459  0.86   0.91   \n",
       "2             3     85.697547    5.311627         9.028248  0.85   0.91   \n",
       "3             4     84.229811    5.659277         9.556460  0.85   0.90   \n",
       "4             5     82.960566    5.779459         9.915783  0.83   0.90   \n",
       "5             1     33.138571    6.073788        22.274732  0.63   0.38   \n",
       "6             1     32.548214    6.130702        22.365877  0.62   0.38   \n",
       "7             1     87.602449    2.957045        15.524411  0.62   0.91   \n",
       "\n",
       "   binder_charged_fraction  binder_hydrophobic_fraction parent_hash  \\\n",
       "0                 0.207547                     0.301887        None   \n",
       "1                 0.207547                     0.301887        None   \n",
       "2                 0.207547                     0.301887        None   \n",
       "3                 0.207547                     0.301887        None   \n",
       "4                 0.207547                     0.301887        None   \n",
       "5                 0.357143                     0.285714      035530   \n",
       "6                 0.357143                     0.285714      035530   \n",
       "7                 0.479592                     0.326531        None   \n",
       "\n",
       "                parent_sequence mutations  \n",
       "0                          None      None  \n",
       "1                          None      None  \n",
       "2                          None      None  \n",
       "3                          None      None  \n",
       "4                          None      None  \n",
       "5  SSLDEWLASLDPQVGQDIRDYIEERQAE       S2A  \n",
       "6  SSLDEWLASLDPQVGQDIRDYIEERQAE       S1A  \n",
       "7                          None      None  "
      ]
     },
     "execution_count": 3,
     "metadata": {},
     "output_type": "execute_result"
    }
   ],
   "source": [
    "df"
   ]
  }
 ],
 "metadata": {
  "kernelspec": {
   "display_name": ".venv",
   "language": "python",
   "name": "python3"
  },
  "language_info": {
   "codemirror_mode": {
    "name": "ipython",
    "version": 3
   },
   "file_extension": ".py",
   "mimetype": "text/x-python",
   "name": "python",
   "nbconvert_exporter": "python",
   "pygments_lexer": "ipython3",
   "version": "3.11.10"
  }
 },
 "nbformat": 4,
 "nbformat_minor": 2
}
